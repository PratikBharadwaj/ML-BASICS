{
 "cells": [
  {
   "cell_type": "markdown",
   "id": "8068daeb",
   "metadata": {},
   "source": [
    "# SVM"
   ]
  },
  {
   "cell_type": "markdown",
   "id": "d22b0d25",
   "metadata": {},
   "source": [
    "# 1.Load the breast cancer dataset form sklearn."
   ]
  },
  {
   "cell_type": "code",
   "execution_count": null,
   "id": "78de5840",
   "metadata": {},
   "outputs": [],
   "source": [
    "from sklearn.datasets import load_breast_cancer\n",
    "data = load_breast_cancer()\n",
    "print (data.feature_names)\n",
    "print (data.target_names)"
   ]
  },
  {
   "cell_type": "code",
   "execution_count": null,
   "id": "2ced50b6",
   "metadata": {
    "scrolled": true
   },
   "outputs": [],
   "source": [
    "import pandas as pd\n",
    "df = pd.DataFrame(data.data, columns=data.feature_names)\n",
    "df['target'] = pd.Series(data.target)"
   ]
  },
  {
   "cell_type": "markdown",
   "id": "45b8e6ae",
   "metadata": {},
   "source": [
    "# 2.If require perform data preprocessing."
   ]
  },
  {
   "cell_type": "code",
   "execution_count": null,
   "id": "5928ff24",
   "metadata": {
    "scrolled": true
   },
   "outputs": [],
   "source": [
    "df.head()"
   ]
  },
  {
   "cell_type": "code",
   "execution_count": null,
   "id": "201e4c58",
   "metadata": {
    "scrolled": false
   },
   "outputs": [],
   "source": [
    "df.info()"
   ]
  },
  {
   "cell_type": "code",
   "execution_count": null,
   "id": "2995a67d",
   "metadata": {},
   "outputs": [],
   "source": [
    "#since our dataset has no null values so no need to perform preprocessing and also we have the mean values as column in our data\n",
    "#no need to calculate mean aslo as "
   ]
  },
  {
   "cell_type": "markdown",
   "id": "08a332f8",
   "metadata": {},
   "source": [
    "# Our dataset already contains the mean values of all the columns"
   ]
  },
  {
   "cell_type": "code",
   "execution_count": null,
   "id": "b0996bf3",
   "metadata": {},
   "outputs": [],
   "source": [
    "#in our dataset columns fro 1 to 10 has the means values\n",
    "featureMeans = list(df.columns[1:11])"
   ]
  },
  {
   "cell_type": "code",
   "execution_count": null,
   "id": "010c6c20",
   "metadata": {
    "scrolled": true
   },
   "outputs": [],
   "source": [
    "#printing column names with mean values\n",
    "print(featureMeans)"
   ]
  },
  {
   "cell_type": "code",
   "execution_count": null,
   "id": "965e59af",
   "metadata": {},
   "outputs": [],
   "source": [
    "#these all are the mean values columns\n",
    "df[1:11]"
   ]
  },
  {
   "cell_type": "code",
   "execution_count": null,
   "id": "7a015195",
   "metadata": {},
   "outputs": [],
   "source": [
    "print(df.isnull().sum())"
   ]
  },
  {
   "cell_type": "code",
   "execution_count": null,
   "id": "addc5038",
   "metadata": {},
   "outputs": [],
   "source": [
    "df.to_csv('load_breast_cancer.csv', sep=',', index=False)"
   ]
  },
  {
   "cell_type": "code",
   "execution_count": null,
   "id": "2b02e7f4",
   "metadata": {},
   "outputs": [],
   "source": [
    "X = df.iloc[:,1:30].values\n",
    "y = df.iloc[:,30].values"
   ]
  },
  {
   "cell_type": "markdown",
   "id": "17ba62c7",
   "metadata": {},
   "source": [
    "#range of the c and gamma in rbf kernel for svm (gama and c are the penalty added to avoid the \n",
    "0.0001<gamma<10\n",
    "0.1<c<100"
   ]
  },
  {
   "cell_type": "markdown",
   "id": "9cfc5e7f",
   "metadata": {},
   "source": [
    "# 3.Split the dataset into training and testing by 90:10 ratios."
   ]
  },
  {
   "cell_type": "code",
   "execution_count": null,
   "id": "cf9885f5",
   "metadata": {},
   "outputs": [],
   "source": [
    "from sklearn.model_selection import train_test_split"
   ]
  },
  {
   "cell_type": "code",
   "execution_count": null,
   "id": "b353d2ea",
   "metadata": {},
   "outputs": [],
   "source": [
    "X_train, X_test, y_train, y_test = train_test_split(X, y, test_size=0.1, random_state=0)"
   ]
  },
  {
   "cell_type": "markdown",
   "id": "e29f9ea5",
   "metadata": {},
   "source": [
    "# 4. Apply linear SVM on the training dataset."
   ]
  },
  {
   "cell_type": "code",
   "execution_count": null,
   "id": "637e55e3",
   "metadata": {},
   "outputs": [],
   "source": [
    "from sklearn.svm import SVC\n",
    "model = SVC(kernel = 'linear', random_state = 0)"
   ]
  },
  {
   "cell_type": "markdown",
   "id": "cde3534b",
   "metadata": {},
   "source": [
    "# 5. Use the above model and fit the test dataset."
   ]
  },
  {
   "cell_type": "code",
   "execution_count": null,
   "id": "c9be2e50",
   "metadata": {},
   "outputs": [],
   "source": [
    "X.shape"
   ]
  },
  {
   "cell_type": "code",
   "execution_count": null,
   "id": "dac060e5",
   "metadata": {},
   "outputs": [],
   "source": [
    "y.shape"
   ]
  },
  {
   "cell_type": "code",
   "execution_count": null,
   "id": "3f73c95f",
   "metadata": {},
   "outputs": [],
   "source": [
    "model.fit(X_train, y_train)\n",
    "y_predict=model.predict(X_test)"
   ]
  },
  {
   "cell_type": "markdown",
   "id": "ff22a343",
   "metadata": {},
   "source": [
    "# 6. Display the accuracy and confusion matrix of evaluated model on test data."
   ]
  },
  {
   "cell_type": "code",
   "execution_count": null,
   "id": "acf45ea0",
   "metadata": {
    "scrolled": true
   },
   "outputs": [],
   "source": [
    "from sklearn.metrics import confusion_matrix, accuracy_score\n",
    "confusion_matrix = confusion_matrix(y_test, y_predict)\n",
    "print(confusion_matrix)\n",
    "accuracy_score(y_test,y_predict)"
   ]
  },
  {
   "cell_type": "markdown",
   "id": "8b76c4f2",
   "metadata": {},
   "source": [
    "# 7. Apply SVM on the training dataset using polynomial kernel."
   ]
  },
  {
   "cell_type": "code",
   "execution_count": null,
   "id": "79df4937",
   "metadata": {},
   "outputs": [],
   "source": [
    "svc = SVC(kernel='poly')"
   ]
  },
  {
   "cell_type": "code",
   "execution_count": null,
   "id": "0f89d1e6",
   "metadata": {},
   "outputs": [],
   "source": [
    "svc.fit(X_train, y_train)"
   ]
  },
  {
   "cell_type": "markdown",
   "id": "62d8bdce",
   "metadata": {},
   "source": [
    "# 8. Use the above model and fit the test dataset."
   ]
  },
  {
   "cell_type": "code",
   "execution_count": null,
   "id": "f518621e",
   "metadata": {},
   "outputs": [],
   "source": [
    "y_predict=svc.predict(X_test)"
   ]
  },
  {
   "cell_type": "markdown",
   "id": "398b2708",
   "metadata": {},
   "source": [
    "# 9. Display the accuracy and confusion matrix of evaluated model on test data."
   ]
  },
  {
   "cell_type": "code",
   "execution_count": null,
   "id": "f25e1889",
   "metadata": {},
   "outputs": [],
   "source": [
    "from sklearn.metrics import confusion_matrix, accuracy_score, classification_report\n",
    "confusion_matrix = confusion_matrix(y_test, y_predict)\n",
    "print(confusion_matrix)\n",
    "accuracy_score(y_test,y_predict)"
   ]
  },
  {
   "cell_type": "code",
   "execution_count": null,
   "id": "e0a58918",
   "metadata": {
    "scrolled": false
   },
   "outputs": [],
   "source": [
    "import seaborn as sns\n",
    "#confusion_matrix = confusion_matrix(y_test, y_predict)\n",
    "sns.heatmap(confusion_matrix, annot=True, fmt='d').set_title('Confusion matrix of linear SVM') \n",
    "# fmt='d' formats the numbers as digits, which means integers\n",
    "\n",
    "print(classification_report(y_test,y_predict))"
   ]
  },
  {
   "cell_type": "markdown",
   "id": "31656f1d",
   "metadata": {},
   "source": [
    "# 10. Apply SVM on the training dataset using RBF kernel."
   ]
  },
  {
   "cell_type": "code",
   "execution_count": null,
   "id": "7159beb4",
   "metadata": {},
   "outputs": [],
   "source": [
    "model = SVC(kernel = 'rbf')"
   ]
  },
  {
   "cell_type": "code",
   "execution_count": null,
   "id": "7fc7072a",
   "metadata": {},
   "outputs": [],
   "source": [
    "model.fit(X_train, y_train)"
   ]
  },
  {
   "cell_type": "markdown",
   "id": "c2cb5bdc",
   "metadata": {},
   "source": [
    "# 11. Use the above model and fit the test dataset."
   ]
  },
  {
   "cell_type": "code",
   "execution_count": null,
   "id": "6652747c",
   "metadata": {},
   "outputs": [],
   "source": [
    "y_predict=model.predict(X_test)"
   ]
  },
  {
   "cell_type": "markdown",
   "id": "49a42d76",
   "metadata": {},
   "source": [
    "# 12. Display the accuracy and confusion matrix of evaluated model on test data"
   ]
  },
  {
   "cell_type": "code",
   "execution_count": null,
   "id": "2de475d1",
   "metadata": {},
   "outputs": [],
   "source": [
    "from sklearn.metrics import confusion_matrix, accuracy_score, classification_report\n",
    "confusion_matrix = confusion_matrix(y_test, y_predict)\n",
    "print(confusion_matrix)\n",
    "accuracy_score(y_test,y_predict)"
   ]
  },
  {
   "cell_type": "code",
   "execution_count": null,
   "id": "840959f2",
   "metadata": {},
   "outputs": [],
   "source": [
    "#confusion_matrix = confusion_matrix(y_test, y_predict)\n",
    "sns.heatmap(confusion_matrix, annot=True, fmt='d').set_title('Confusion matrix of linear SVM') \n",
    "# fmt='d' formats the numbers as digits, which means integers\n",
    "\n",
    "print(classification_report(y_test,y_predict))"
   ]
  }
 ],
 "metadata": {
  "kernelspec": {
   "display_name": "Python 3 (ipykernel)",
   "language": "python",
   "name": "python3"
  },
  "language_info": {
   "codemirror_mode": {
    "name": "ipython",
    "version": 3
   },
   "file_extension": ".py",
   "mimetype": "text/x-python",
   "name": "python",
   "nbconvert_exporter": "python",
   "pygments_lexer": "ipython3",
   "version": "3.9.13"
  }
 },
 "nbformat": 4,
 "nbformat_minor": 5
}
