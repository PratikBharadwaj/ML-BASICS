{
 "cells": [
  {
   "cell_type": "markdown",
   "id": "0b6a1963",
   "metadata": {},
   "source": [
    "# RANDOM FOREST"
   ]
  },
  {
   "cell_type": "markdown",
   "id": "2887fb2d",
   "metadata": {},
   "source": [
    "# 1.Load the dataset from https://www.kaggle.com/datasets/kumargh/pimaindiansdiabetescsv(pima-indians-diabetes.data.csv)."
   ]
  },
  {
   "cell_type": "code",
   "execution_count": null,
   "id": "3d239107",
   "metadata": {
    "scrolled": false
   },
   "outputs": [],
   "source": [
    "import pandas as pd\n",
    "\n",
    "df = pd.read_csv(\"pima-indians-diabetes.csv\")\n",
    "\n",
    "df.head()"
   ]
  },
  {
   "cell_type": "markdown",
   "id": "ca0db9d2",
   "metadata": {},
   "source": [
    "# 2.check if there are missing values are present in the dataset."
   ]
  },
  {
   "cell_type": "code",
   "execution_count": null,
   "id": "afe58b18",
   "metadata": {
    "scrolled": true
   },
   "outputs": [],
   "source": [
    "df.isna().sum()"
   ]
  },
  {
   "cell_type": "markdown",
   "id": "3bf7094b",
   "metadata": {},
   "source": [
    "# 3.Perform data preprocessing"
   ]
  },
  {
   "cell_type": "code",
   "execution_count": null,
   "id": "318d7e20",
   "metadata": {},
   "outputs": [],
   "source": [
    "# create a dictionary\n",
    "# key = old name\n",
    "# value = new name taken from kaggle website\n",
    "dict = {'6': 'Pregnancies',\n",
    "        '148': 'Glucose',\n",
    "        '72': 'BloodPressure',\n",
    "        '35': 'SkinThickness',\n",
    "        '0': 'Insulin',\n",
    "        '33.6': 'BMI',\n",
    "        '0.627': 'DiabetesPedigreeFunction',\n",
    "        '50': 'Age',\n",
    "        '1': 'Class'\n",
    "       }\n",
    " \n",
    "# call rename () method\n",
    "df.rename(columns=dict,\n",
    "          inplace=True)"
   ]
  },
  {
   "cell_type": "code",
   "execution_count": null,
   "id": "ba42c7ee",
   "metadata": {
    "scrolled": true
   },
   "outputs": [],
   "source": [
    "df.head()"
   ]
  },
  {
   "cell_type": "markdown",
   "id": "32491ebe",
   "metadata": {},
   "source": [
    "# 4.Split dataset into test and train (20:80)."
   ]
  },
  {
   "cell_type": "code",
   "execution_count": null,
   "id": "e9a9a58f",
   "metadata": {},
   "outputs": [],
   "source": [
    "X = df.iloc[:,1:8].values\n",
    "y = df.iloc[:,8].values"
   ]
  },
  {
   "cell_type": "code",
   "execution_count": null,
   "id": "eadec846",
   "metadata": {},
   "outputs": [],
   "source": [
    "from sklearn.model_selection import train_test_split"
   ]
  },
  {
   "cell_type": "code",
   "execution_count": null,
   "id": "ae12fdde",
   "metadata": {},
   "outputs": [],
   "source": [
    "X_train, X_test, y_train, y_test = train_test_split(X, y, test_size=0.2, random_state=0)"
   ]
  },
  {
   "cell_type": "code",
   "execution_count": null,
   "id": "90d337f9",
   "metadata": {},
   "outputs": [],
   "source": [
    "import pandas as pd\n",
    "from sklearn.compose import ColumnTransformer\n",
    "from sklearn.preprocessing import StandardScaler\n",
    "\n",
    "# Define the preprocessing steps\n",
    "preprocessor = ColumnTransformer(\n",
    "    transformers=[\n",
    "        ('num', StandardScaler(), list(range(X_train.shape[1])))\n",
    "    ])"
   ]
  },
  {
   "cell_type": "markdown",
   "id": "5498b458",
   "metadata": {},
   "source": [
    "# 5.Build any three classification models for identifying diabetes."
   ]
  },
  {
   "cell_type": "code",
   "execution_count": null,
   "id": "aeaf1454",
   "metadata": {},
   "outputs": [],
   "source": [
    "from sklearn.linear_model import LogisticRegression\n",
    "from sklearn.svm import SVC\n",
    "from sklearn.neighbors import KNeighborsClassifier\n",
    "from sklearn.ensemble import VotingClassifier"
   ]
  },
  {
   "cell_type": "code",
   "execution_count": null,
   "id": "70037c9a",
   "metadata": {},
   "outputs": [],
   "source": [
    "clf1 = LogisticRegression(random_state=42)\n",
    "clf2 = SVC(kernel='rbf', random_state=42)\n",
    "clf3 = KNeighborsClassifier(n_neighbors=5)"
   ]
  },
  {
   "cell_type": "markdown",
   "id": "e06b85f7",
   "metadata": {},
   "source": [
    "# 6.Build Voting ensemble classifier on the training datase"
   ]
  },
  {
   "cell_type": "code",
   "execution_count": null,
   "id": "f10aacd2",
   "metadata": {},
   "outputs": [],
   "source": [
    "eclf1 = VotingClassifier(estimators=\n",
    "                        [('lr', clf1),\n",
    "                        ('svc', clf2),\n",
    "                        ('knn', clf3)], voting='hard')"
   ]
  },
  {
   "cell_type": "markdown",
   "id": "0eaf2e4a",
   "metadata": {},
   "source": [
    "# 7.Build Bagging ensemble classifier on the training dat"
   ]
  },
  {
   "cell_type": "code",
   "execution_count": null,
   "id": "2e8b2ba7",
   "metadata": {},
   "outputs": [],
   "source": [
    "from sklearn.ensemble import RandomForestClassifier\n",
    "\n",
    "rfc = RandomForestClassifier(n_estimators=30)"
   ]
  },
  {
   "cell_type": "markdown",
   "id": "e4d2a769",
   "metadata": {},
   "source": [
    "# 8.Build Boosting ensemble classifier on the training dataset"
   ]
  },
  {
   "cell_type": "code",
   "execution_count": null,
   "id": "311a6300",
   "metadata": {},
   "outputs": [],
   "source": [
    "pip install xgboost"
   ]
  },
  {
   "cell_type": "code",
   "execution_count": null,
   "id": "5bfc25b7",
   "metadata": {
    "scrolled": true
   },
   "outputs": [],
   "source": [
    "from xgboost import XGBClassifier\n",
    "\n",
    "xgb = XGBClassifier()"
   ]
  },
  {
   "cell_type": "markdown",
   "id": "71615dc4",
   "metadata": {},
   "source": [
    "# 9.Fit the models designed from step-5 to step-8 on the test datase"
   ]
  },
  {
   "cell_type": "code",
   "execution_count": null,
   "id": "fdbaf5eb",
   "metadata": {},
   "outputs": [],
   "source": [
    "X_train_preprocessed = pd.DataFrame(preprocessor.fit_transform(X_train))\n",
    "\n",
    "X_test_preprocessed = pd.DataFrame(preprocessor.transform(X_test))"
   ]
  },
  {
   "cell_type": "markdown",
   "id": "688b5172",
   "metadata": {},
   "source": [
    "### Voting"
   ]
  },
  {
   "cell_type": "code",
   "execution_count": null,
   "id": "852e24ca",
   "metadata": {},
   "outputs": [],
   "source": [
    "eclf1 = eclf1.fit(X_train, y_train)"
   ]
  },
  {
   "cell_type": "markdown",
   "id": "d53e10fc",
   "metadata": {},
   "source": [
    "### Bagging"
   ]
  },
  {
   "cell_type": "code",
   "execution_count": null,
   "id": "cd283e6b",
   "metadata": {
    "scrolled": true
   },
   "outputs": [],
   "source": [
    "rfc.fit(X_train, y_train)"
   ]
  },
  {
   "cell_type": "markdown",
   "id": "8eb81eed",
   "metadata": {},
   "source": [
    "### Boosting"
   ]
  },
  {
   "cell_type": "code",
   "execution_count": null,
   "id": "e3f80e6a",
   "metadata": {},
   "outputs": [],
   "source": [
    "xgb = xgb.fit(X_train, y_train)"
   ]
  },
  {
   "cell_type": "markdown",
   "id": "df93e5a0",
   "metadata": {},
   "source": [
    "# 10.Evaluate  the  designed  models  from  step-5  to  step-8  with  appropriate classification metrics."
   ]
  },
  {
   "cell_type": "code",
   "execution_count": null,
   "id": "62496b7e",
   "metadata": {},
   "outputs": [],
   "source": [
    "import seaborn as sns"
   ]
  },
  {
   "cell_type": "code",
   "execution_count": null,
   "id": "1d5686e1",
   "metadata": {},
   "outputs": [],
   "source": [
    "from sklearn.metrics import confusion_matrix, accuracy_score"
   ]
  },
  {
   "cell_type": "markdown",
   "id": "9ab0ed0e",
   "metadata": {},
   "source": [
    "### Voting"
   ]
  },
  {
   "cell_type": "code",
   "execution_count": null,
   "id": "d0fbdf06",
   "metadata": {
    "scrolled": true
   },
   "outputs": [],
   "source": [
    "sns.heatmap(confusion_matrix(y_test, eclf1.predict(X_test)), annot=True, fmt='g')"
   ]
  },
  {
   "cell_type": "code",
   "execution_count": null,
   "id": "117cc7af",
   "metadata": {},
   "outputs": [],
   "source": [
    "# accuracy\n",
    "\n",
    "accuracy_score(y_test, eclf1.predict(X_test)) * 100"
   ]
  },
  {
   "cell_type": "markdown",
   "id": "b3d60b99",
   "metadata": {},
   "source": [
    "### Bagging "
   ]
  },
  {
   "cell_type": "code",
   "execution_count": null,
   "id": "c8abe82a",
   "metadata": {
    "scrolled": false
   },
   "outputs": [],
   "source": [
    "sns.heatmap(confusion_matrix(y_test, rfc.predict(X_test)), fmt='g', annot=True)"
   ]
  },
  {
   "cell_type": "code",
   "execution_count": null,
   "id": "60e2dce7",
   "metadata": {
    "scrolled": true
   },
   "outputs": [],
   "source": [
    "accuracy_score(y_test, rfc.predict(X_test)) * 100"
   ]
  },
  {
   "cell_type": "markdown",
   "id": "32df934a",
   "metadata": {},
   "source": [
    "### Boosting"
   ]
  },
  {
   "cell_type": "code",
   "execution_count": null,
   "id": "ac6a72f9",
   "metadata": {},
   "outputs": [],
   "source": [
    "sns.heatmap(confusion_matrix(y_test, xgb.predict(X_test)), fmt='g', annot=True)"
   ]
  },
  {
   "cell_type": "code",
   "execution_count": null,
   "id": "089b48da",
   "metadata": {},
   "outputs": [],
   "source": [
    "accuracy_score(y_test, xgb.predict(X_test)) * 100"
   ]
  }
 ],
 "metadata": {
  "kernelspec": {
   "display_name": "Python 3 (ipykernel)",
   "language": "python",
   "name": "python3"
  },
  "language_info": {
   "codemirror_mode": {
    "name": "ipython",
    "version": 3
   },
   "file_extension": ".py",
   "mimetype": "text/x-python",
   "name": "python",
   "nbconvert_exporter": "python",
   "pygments_lexer": "ipython3",
   "version": "3.9.13"
  }
 },
 "nbformat": 4,
 "nbformat_minor": 5
}
