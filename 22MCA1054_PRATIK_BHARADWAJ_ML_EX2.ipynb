{
 "cells": [
  {
   "cell_type": "markdown",
   "id": "5c920d3f",
   "metadata": {},
   "source": [
    "<img src=\"download.png\">\n",
    "\n",
    "\n",
    "|Programme| Semester |  Course  | Code|Faculty|RgNo|Name \n",
    "|---------|--------------|--------------------|--------|------------|---------|------------|\n",
    "|M. C. A. |WINTER 2023-24|Machine Learning Lab|ITA 6016|Dr. Rajesh M|22MCA1054|Pratik Bharadwaj|\n",
    "\n",
    "\n",
    "### Machine Learning lab Excersise 1"
   ]
  },
  {
   "cell_type": "code",
   "execution_count": 1,
   "id": "9390dbde",
   "metadata": {},
   "outputs": [],
   "source": [
    "import numpy as np\n",
    "import pandas as pd\n",
    "import seaborn as sns\n",
    "import matplotlib.pyplot as plt\n",
    "from sklearn import preprocessing, svm\n",
    "from sklearn.model_selection import train_test_split\n",
    "from sklearn.linear_model import LinearRegression\n",
    "from importlib import reload\n",
    "plt=reload(plt)"
   ]
  },
  {
   "cell_type": "markdown",
   "id": "569cf1f1",
   "metadata": {},
   "source": [
    "# QUESTION 1"
   ]
  },
  {
   "cell_type": "markdown",
   "id": "16c58c84",
   "metadata": {},
   "source": [
    "## Consider the following sample dataset and write a program to project it in the form of a scatter plot and observe any relationship that exists in between the experience and pay."
   ]
  },
  {
   "cell_type": "code",
   "execution_count": 5,
   "id": "94e44c98",
   "metadata": {},
   "outputs": [],
   "source": [
    "data = {'Experience':[2,3,5,13,8,16,11,1,9,4], 'Pay':[15,28,42,64,50,90,58,8,54,30]}\n",
    "df=pd.DataFrame(data)\n",
    "X = df.iloc[:, 0].values.reshape(-1, 1)  # values converts it into a numpy array\n",
    "Y = df.iloc[:, 1].values.reshape(-1, 1)  # -1 means that calculate the dimension of rows, but have 1 column\n",
    "model = LinearRegression()  # create object for the class\n",
    "model.fit(X, Y)  # perform linear regression\n",
    "Y_pred = model.predict(X)  # make predictions"
   ]
  },
  {
   "cell_type": "markdown",
   "id": "21d99aa4",
   "metadata": {},
   "source": [
    "We have our predictions in Y_pred. Now lets visualize the data set and the regression line:"
   ]
  },
  {
   "cell_type": "code",
   "execution_count": 3,
   "id": "0e766a6e",
   "metadata": {},
   "outputs": [
    {
     "data": {
      "image/png": "[encoded data removed]",
      "text/plain": [
       "<Figure size 640x480 with 1 Axes>"
      ]
     },
     "metadata": {},
     "output_type": "display_data"
    }
   ],
   "source": [
    "plt.scatter(X, Y)\n",
    "plt.xlabel('Experience(in years)')\n",
    "plt.ylabel('Pay (in 1000 Rs.)')\n",
    "plt.title('Relation between Experience and Pay')\n",
    "plt.axis([0,25,0,100])\n",
    "plt.grid(True)\n",
    "plt.plot(X, Y_pred, color='green')\n",
    "plt.show()"
   ]
  },
  {
   "cell_type": "markdown",
   "id": "e0833def",
   "metadata": {},
   "source": [
    "# QUESTION 2"
   ]
  },
  {
   "cell_type": "markdown",
   "id": "8341dde9",
   "metadata": {},
   "source": [
    "## Fill(Find)the following table by using the respective values of 𝒙and y."
   ]
  },
  {
   "cell_type": "code",
   "execution_count": 4,
   "id": "2eda9224",
   "metadata": {},
   "outputs": [],
   "source": [
    "x=np.array([2,3,5,13,8,16,11,1,9,4])\n",
    "y=np.array([15,28,42,64,50,90,58,8,54,30])"
   ]
  },
  {
   "cell_type": "code",
   "execution_count": 5,
   "id": "de75e18c",
   "metadata": {},
   "outputs": [
    {
     "name": "stdout",
     "output_type": "stream",
     "text": [
      "[ 2  3  5 13  8 16 11  1  9  4]\n"
     ]
    }
   ],
   "source": [
    "print(x)"
   ]
  },
  {
   "cell_type": "code",
   "execution_count": 6,
   "id": "39a17d1d",
   "metadata": {},
   "outputs": [
    {
     "name": "stdout",
     "output_type": "stream",
     "text": [
      "[15 28 42 64 50 90 58  8 54 30]\n"
     ]
    }
   ],
   "source": [
    "print(y)"
   ]
  },
  {
   "cell_type": "code",
   "execution_count": 7,
   "id": "823063f2",
   "metadata": {},
   "outputs": [
    {
     "data": {
      "text/plain": [
       "7.2"
      ]
     },
     "execution_count": 7,
     "metadata": {},
     "output_type": "execute_result"
    }
   ],
   "source": [
    "#xbar =mean of x\n",
    "xbar=np.mean(x)\n",
    "xbar"
   ]
  },
  {
   "cell_type": "code",
   "execution_count": 8,
   "id": "e7fb9733",
   "metadata": {},
   "outputs": [
    {
     "data": {
      "text/plain": [
       "array([-5.2, -4.2, -2.2,  5.8,  0.8,  8.8,  3.8, -6.2,  1.8, -3.2])"
      ]
     },
     "execution_count": 8,
     "metadata": {},
     "output_type": "execute_result"
    }
   ],
   "source": [
    "a=x-xbar\n",
    "a"
   ]
  },
  {
   "cell_type": "code",
   "execution_count": 9,
   "id": "50dd8f1c",
   "metadata": {},
   "outputs": [
    {
     "data": {
      "text/plain": [
       "43.9"
      ]
     },
     "execution_count": 9,
     "metadata": {},
     "output_type": "execute_result"
    }
   ],
   "source": [
    "#ybar =mean of y\n",
    "ybar=np.mean(y)\n",
    "ybar"
   ]
  },
  {
   "cell_type": "code",
   "execution_count": 10,
   "id": "bcfa3c5f",
   "metadata": {
    "scrolled": true
   },
   "outputs": [
    {
     "data": {
      "text/plain": [
       "array([-28.9, -15.9,  -1.9,  20.1,   6.1,  46.1,  14.1, -35.9,  10.1,\n",
       "       -13.9])"
      ]
     },
     "execution_count": 10,
     "metadata": {},
     "output_type": "execute_result"
    }
   ],
   "source": [
    "b = y-ybar\n",
    "b"
   ]
  },
  {
   "cell_type": "code",
   "execution_count": 11,
   "id": "410e2a98",
   "metadata": {},
   "outputs": [
    {
     "data": {
      "text/plain": [
       "array([150.28,  66.78,   4.18, 116.58,   4.88, 405.68,  53.58, 222.58,\n",
       "        18.18,  44.48])"
      ]
     },
     "execution_count": 11,
     "metadata": {},
     "output_type": "execute_result"
    }
   ],
   "source": [
    "c=((x-xbar)*(y-ybar))\n",
    "c"
   ]
  },
  {
   "cell_type": "code",
   "execution_count": 12,
   "id": "c649be98",
   "metadata": {},
   "outputs": [
    {
     "data": {
      "text/plain": [
       "array([27.04, 17.64,  4.84, 33.64,  0.64, 77.44, 14.44, 38.44,  3.24,\n",
       "       10.24])"
      ]
     },
     "execution_count": 12,
     "metadata": {},
     "output_type": "execute_result"
    }
   ],
   "source": [
    "d=(x-xbar)**2\n",
    "d"
   ]
  },
  {
   "cell_type": "code",
   "execution_count": 13,
   "id": "0a14e766",
   "metadata": {},
   "outputs": [],
   "source": [
    "#plotting a data frame\n",
    "df = pd.DataFrame({'x':x,\n",
    "                  'y':y,\n",
    "                  'x-xbar': a,\n",
    "                   'y-ybar': b,\n",
    "                   '((x-xbar)*(y-ybar))': c,\n",
    "                   '(x-xbar)**2': d,\n",
    "                  })"
   ]
  },
  {
   "cell_type": "code",
   "execution_count": 14,
   "id": "4d301aa1",
   "metadata": {
    "scrolled": true
   },
   "outputs": [
    {
     "data": {
      "text/html": [
       "<div>\n",
       "<style scoped>\n",
       "    .dataframe tbody tr th:only-of-type {\n",
       "        vertical-align: middle;\n",
       "    }\n",
       "\n",
       "    .dataframe tbody tr th {\n",
       "        vertical-align: top;\n",
       "    }\n",
       "\n",
       "    .dataframe thead th {\n",
       "        text-align: right;\n",
       "    }\n",
       "</style>\n",
       "<table border=\"1\" class=\"dataframe\">\n",
       "  <thead>\n",
       "    <tr style=\"text-align: right;\">\n",
       "      <th></th>\n",
       "      <th>x</th>\n",
       "      <th>y</th>\n",
       "      <th>x-xbar</th>\n",
       "      <th>y-ybar</th>\n",
       "      <th>((x-xbar)*(y-ybar))</th>\n",
       "      <th>(x-xbar)**2</th>\n",
       "    </tr>\n",
       "  </thead>\n",
       "  <tbody>\n",
       "    <tr>\n",
       "      <th>0</th>\n",
       "      <td>2</td>\n",
       "      <td>15</td>\n",
       "      <td>-5.2</td>\n",
       "      <td>-28.9</td>\n",
       "      <td>150.28</td>\n",
       "      <td>27.04</td>\n",
       "    </tr>\n",
       "    <tr>\n",
       "      <th>1</th>\n",
       "      <td>3</td>\n",
       "      <td>28</td>\n",
       "      <td>-4.2</td>\n",
       "      <td>-15.9</td>\n",
       "      <td>66.78</td>\n",
       "      <td>17.64</td>\n",
       "    </tr>\n",
       "    <tr>\n",
       "      <th>2</th>\n",
       "      <td>5</td>\n",
       "      <td>42</td>\n",
       "      <td>-2.2</td>\n",
       "      <td>-1.9</td>\n",
       "      <td>4.18</td>\n",
       "      <td>4.84</td>\n",
       "    </tr>\n",
       "    <tr>\n",
       "      <th>3</th>\n",
       "      <td>13</td>\n",
       "      <td>64</td>\n",
       "      <td>5.8</td>\n",
       "      <td>20.1</td>\n",
       "      <td>116.58</td>\n",
       "      <td>33.64</td>\n",
       "    </tr>\n",
       "    <tr>\n",
       "      <th>4</th>\n",
       "      <td>8</td>\n",
       "      <td>50</td>\n",
       "      <td>0.8</td>\n",
       "      <td>6.1</td>\n",
       "      <td>4.88</td>\n",
       "      <td>0.64</td>\n",
       "    </tr>\n",
       "    <tr>\n",
       "      <th>5</th>\n",
       "      <td>16</td>\n",
       "      <td>90</td>\n",
       "      <td>8.8</td>\n",
       "      <td>46.1</td>\n",
       "      <td>405.68</td>\n",
       "      <td>77.44</td>\n",
       "    </tr>\n",
       "    <tr>\n",
       "      <th>6</th>\n",
       "      <td>11</td>\n",
       "      <td>58</td>\n",
       "      <td>3.8</td>\n",
       "      <td>14.1</td>\n",
       "      <td>53.58</td>\n",
       "      <td>14.44</td>\n",
       "    </tr>\n",
       "    <tr>\n",
       "      <th>7</th>\n",
       "      <td>1</td>\n",
       "      <td>8</td>\n",
       "      <td>-6.2</td>\n",
       "      <td>-35.9</td>\n",
       "      <td>222.58</td>\n",
       "      <td>38.44</td>\n",
       "    </tr>\n",
       "    <tr>\n",
       "      <th>8</th>\n",
       "      <td>9</td>\n",
       "      <td>54</td>\n",
       "      <td>1.8</td>\n",
       "      <td>10.1</td>\n",
       "      <td>18.18</td>\n",
       "      <td>3.24</td>\n",
       "    </tr>\n",
       "    <tr>\n",
       "      <th>9</th>\n",
       "      <td>4</td>\n",
       "      <td>30</td>\n",
       "      <td>-3.2</td>\n",
       "      <td>-13.9</td>\n",
       "      <td>44.48</td>\n",
       "      <td>10.24</td>\n",
       "    </tr>\n",
       "  </tbody>\n",
       "</table>\n",
       "</div>"
      ],
      "text/plain": [
       "    x   y  x-xbar  y-ybar  ((x-xbar)*(y-ybar))  (x-xbar)**2\n",
       "0   2  15    -5.2   -28.9               150.28        27.04\n",
       "1   3  28    -4.2   -15.9                66.78        17.64\n",
       "2   5  42    -2.2    -1.9                 4.18         4.84\n",
       "3  13  64     5.8    20.1               116.58        33.64\n",
       "4   8  50     0.8     6.1                 4.88         0.64\n",
       "5  16  90     8.8    46.1               405.68        77.44\n",
       "6  11  58     3.8    14.1                53.58        14.44\n",
       "7   1   8    -6.2   -35.9               222.58        38.44\n",
       "8   9  54     1.8    10.1                18.18         3.24\n",
       "9   4  30    -3.2   -13.9                44.48        10.24"
      ]
     },
     "execution_count": 14,
     "metadata": {},
     "output_type": "execute_result"
    }
   ],
   "source": [
    "df"
   ]
  },
  {
   "cell_type": "code",
   "execution_count": 15,
   "id": "10ad930d",
   "metadata": {},
   "outputs": [
    {
     "data": {
      "text/plain": [
       "72"
      ]
     },
     "execution_count": 15,
     "metadata": {},
     "output_type": "execute_result"
    }
   ],
   "source": [
    "df['x'].sum()"
   ]
  },
  {
   "cell_type": "code",
   "execution_count": 16,
   "id": "cceda419",
   "metadata": {},
   "outputs": [
    {
     "data": {
      "text/plain": [
       "439"
      ]
     },
     "execution_count": 16,
     "metadata": {},
     "output_type": "execute_result"
    }
   ],
   "source": [
    "df['y'].sum()"
   ]
  },
  {
   "cell_type": "code",
   "execution_count": 17,
   "id": "547e4009",
   "metadata": {},
   "outputs": [
    {
     "data": {
      "text/plain": [
       "0.0"
      ]
     },
     "execution_count": 17,
     "metadata": {},
     "output_type": "execute_result"
    }
   ],
   "source": [
    "a=df['x-xbar'].sum()\n",
    "a"
   ]
  },
  {
   "cell_type": "code",
   "execution_count": 18,
   "id": "606d5eda",
   "metadata": {},
   "outputs": [
    {
     "data": {
      "text/plain": [
       "1.4210854715202004e-14"
      ]
     },
     "execution_count": 18,
     "metadata": {},
     "output_type": "execute_result"
    }
   ],
   "source": [
    "df['y-ybar'].sum()"
   ]
  },
  {
   "cell_type": "code",
   "execution_count": 19,
   "id": "7dfea63a",
   "metadata": {
    "scrolled": true
   },
   "outputs": [
    {
     "data": {
      "text/plain": [
       "1087.2"
      ]
     },
     "execution_count": 19,
     "metadata": {},
     "output_type": "execute_result"
    }
   ],
   "source": [
    "df['((x-xbar)*(y-ybar))'].sum()"
   ]
  },
  {
   "cell_type": "code",
   "execution_count": 20,
   "id": "31dd49a2",
   "metadata": {
    "scrolled": true
   },
   "outputs": [
    {
     "data": {
      "text/plain": [
       "227.60000000000002"
      ]
     },
     "execution_count": 20,
     "metadata": {},
     "output_type": "execute_result"
    }
   ],
   "source": [
    "df['(x-xbar)**2'].sum()"
   ]
  },
  {
   "cell_type": "markdown",
   "id": "72ea7d2e",
   "metadata": {},
   "source": [
    "# QUESTION 3"
   ]
  },
  {
   "cell_type": "markdown",
   "id": "c0d1d679",
   "metadata": {},
   "source": [
    "## Use the above table and solve the following equations (using OLS method) for finding the values of 𝑤0 and 𝑤1."
   ]
  },
  {
   "cell_type": "code",
   "execution_count": 21,
   "id": "3e90de25",
   "metadata": {},
   "outputs": [
    {
     "name": "stdout",
     "output_type": "stream",
     "text": [
      "22MCA1054_PRATIK_BHARADWAJ\n",
      "[9.50702988]\n"
     ]
    }
   ],
   "source": [
    "print('22MCA1054_PRATIK_BHARADWAJ')\n",
    "w0=print(model.intercept_)"
   ]
  },
  {
   "cell_type": "code",
   "execution_count": 22,
   "id": "127a8419",
   "metadata": {},
   "outputs": [
    {
     "name": "stdout",
     "output_type": "stream",
     "text": [
      "22MCA1054_PRATIK_BHARADWAJ\n",
      "[[4.77680141]]\n"
     ]
    }
   ],
   "source": [
    "print('22MCA1054_PRATIK_BHARADWAJ')\n",
    "w1=print(model.coef_)"
   ]
  },
  {
   "cell_type": "markdown",
   "id": "2056311a",
   "metadata": {},
   "source": [
    "# QUESTION 4"
   ]
  },
  {
   "cell_type": "markdown",
   "id": "8e66ea91",
   "metadata": {},
   "source": [
    "## Write a python program to find the above two values (𝑤0 and 𝑤1) for any given dataset."
   ]
  },
  {
   "cell_type": "code",
   "execution_count": 23,
   "id": "f9dd8f6e",
   "metadata": {},
   "outputs": [
    {
     "name": "stdout",
     "output_type": "stream",
     "text": [
      "22MCA1054_PRATIK_BHARADWAJ\n"
     ]
    },
    {
     "data": {
      "text/plain": [
       "4.776801405975395"
      ]
     },
     "execution_count": 23,
     "metadata": {},
     "output_type": "execute_result"
    }
   ],
   "source": [
    "print('22MCA1054_PRATIK_BHARADWAJ')\n",
    "w1=df['((x-xbar)*(y-ybar))'].sum()/df['(x-xbar)**2'].sum()\n",
    "w1"
   ]
  },
  {
   "cell_type": "code",
   "execution_count": 24,
   "id": "65c8d252",
   "metadata": {},
   "outputs": [
    {
     "name": "stdout",
     "output_type": "stream",
     "text": [
      "22MCA1054_PRATIK_BHARADWAJ\n"
     ]
    },
    {
     "data": {
      "text/plain": [
       "9.50702987697715"
      ]
     },
     "execution_count": 24,
     "metadata": {},
     "output_type": "execute_result"
    }
   ],
   "source": [
    "print('22MCA1054_PRATIK_BHARADWAJ')\n",
    "w0=ybar-(w1*(xbar))\n",
    "w0"
   ]
  },
  {
   "cell_type": "markdown",
   "id": "10c6760c",
   "metadata": {},
   "source": [
    "# QUESTION 5"
   ]
  },
  {
   "cell_type": "markdown",
   "id": "4fbc4636",
   "metadata": {},
   "source": [
    "## Write a python program to find the above two values (𝑤0 and 𝑤1) for any given dataset using Normal Equations."
   ]
  },
  {
   "cell_type": "code",
   "execution_count": 25,
   "id": "788821b2",
   "metadata": {},
   "outputs": [],
   "source": [
    "X=np.array([2,3,5,13,8,16,11,1,9,4]).reshape(-1, 1)\n",
    "y=np.array([15,28,42,64,50,90,58,8,54,30]).reshape(-1, 1)"
   ]
  },
  {
   "cell_type": "markdown",
   "id": "bdd57722",
   "metadata": {},
   "source": [
    "Find Theta Function"
   ]
  },
  {
   "cell_type": "code",
   "execution_count": 26,
   "id": "675149ca",
   "metadata": {},
   "outputs": [],
   "source": [
    "def find_theta(X, y):\n",
    "    \n",
    "    m = X.shape[0] # Number of training examples. \n",
    "    \n",
    "    # Appending a cloumn of ones in X to add the bias term.\n",
    "    X = np.append(X, np.ones((m,1)), axis=1)    \n",
    "    \n",
    "    # The Normal Equation\n",
    "    theta = np.dot(np.linalg.inv(np.dot(X.T, X)), np.dot(X.T, y))\n",
    "    \n",
    "    return theta"
   ]
  },
  {
   "cell_type": "code",
   "execution_count": 27,
   "id": "18446a94",
   "metadata": {
    "scrolled": false
   },
   "outputs": [
    {
     "name": "stdout",
     "output_type": "stream",
     "text": [
      "w1 : [4.77680141]\n",
      "w0 : [9.50702988]\n"
     ]
    }
   ],
   "source": [
    "# Getting the Value of theta using the find_theta function.\n",
    "theta = find_theta(X, *y)\n",
    "print(\"w1 :\",theta[0])\n",
    "print(\"w0 :\",theta[1])"
   ]
  },
  {
   "cell_type": "markdown",
   "id": "84e0d46d",
   "metadata": {},
   "source": [
    "# QUESTION 6"
   ]
  },
  {
   "cell_type": "markdown",
   "id": "d3a62c31",
   "metadata": {},
   "source": [
    "## Write a python program to find the above two values (𝑤0 and 𝑤1) for any given dataset using gradient descent."
   ]
  },
  {
   "cell_type": "code",
   "execution_count": 28,
   "id": "08286024",
   "metadata": {},
   "outputs": [
    {
     "name": "stdout",
     "output_type": "stream",
     "text": [
      "w0 = 22MCA1054 9.072928403325314\n",
      "w1 = 22MCA1054 4.818869050208264\n"
     ]
    }
   ],
   "source": [
    "# Define a function to perform gradient descent\n",
    "def gradient_descent(x, y, alpha, num_iterations):\n",
    "    m = len(x)\n",
    "    w0 = 0\n",
    "    w1 = 0\n",
    "\n",
    "    # Loop through the specified number of iterations\n",
    "    for i in range(num_iterations):\n",
    "        # Calculate the predicted values\n",
    "        y_pred = w0 + w1 * x\n",
    "\n",
    "        # Calculate the cost function\n",
    "        cost = (1 / (2 * m)) * sum((y_pred - y) ** 2)\n",
    "\n",
    "        # Calculate the partial derivatives of the cost function with respect to w0 and w1\n",
    "        d_w0 = (1 / m) * sum(y_pred - y)\n",
    "        d_w1 = (1 / m) * sum((y_pred - y) * x)\n",
    "\n",
    "        # Update w0 and w1\n",
    "        w0 = w0 - alpha * d_w0\n",
    "        w1 = w1 - alpha * d_w1\n",
    "\n",
    "    return w0, w1\n",
    "\n",
    "# Define a sample dataset\n",
    "X=np.array([2,3,5,13,8,16,11,1,9,4])\n",
    "y=np.array([15,28,42,64,50,90,58,8,54,30])\n",
    "\n",
    "# Define the learning rate and number of iterations\n",
    "alpha = 0.01\n",
    "num_iterations = 1000\n",
    "\n",
    "# Perform gradient descent on the dataset\n",
    "w0, w1 = gradient_descent(x, y, alpha, num_iterations)\n",
    "\n",
    "# Print the values of w0 and w1\n",
    "print(\"w0 = 22MCA1054\", w0)\n",
    "print(\"w1 = 22MCA1054\", w1)"
   ]
  },
  {
   "cell_type": "markdown",
   "id": "38c66e52",
   "metadata": {},
   "source": [
    "# QUESTION 7"
   ]
  },
  {
   "cell_type": "markdown",
   "id": "07f7a0ec",
   "metadata": {},
   "source": [
    "## Write a python program to store the above dataset as pandas data-frame and implement linear regression model by splitting the dataset into training set and testing set (80:20)."
   ]
  },
  {
   "cell_type": "code",
   "execution_count": 29,
   "id": "7d47cf31",
   "metadata": {},
   "outputs": [
    {
     "name": "stdout",
     "output_type": "stream",
     "text": [
      "Intercept: [8.19902913]\n",
      "Coefficient: [[4.85679612]]\n",
      "R-squared: 0.9061352605608387\n",
      "No. of training examples 22MCA1054: 8\n",
      "No. of testing examples 22MCA1054: 2\n"
     ]
    }
   ],
   "source": [
    "data = {'x': [2,3,5,13,8,16,11,1,9,4], 'y': [15,28,42,64,50,90,58,8,54,30]}\n",
    "df = pd.DataFrame(data)\n",
    "data = pd.DataFrame({'experience': x, 'pay': y})\n",
    "\n",
    "# split the dataset\n",
    "train_data, test_data = train_test_split(data, test_size=0.2, random_state=42)\n",
    "\n",
    "\n",
    "train_X = train_data[['experience']]\n",
    "train_y = train_data[['pay']]\n",
    "test_X = test_data[['experience']]\n",
    "test_y = test_data[['pay']]\n",
    "reg = LinearRegression().fit(train_X, train_y)\n",
    "print(\"Intercept:\", reg.intercept_)\n",
    "print(\"Coefficient:\", reg.coef_)\n",
    "y_pred = reg.predict(test_X)\n",
    "r_squared = reg.score(test_X, test_y)\n",
    "print(\"R-squared:\", r_squared)\n",
    "\n",
    "print(f\"No. of training examples 22MCA1054: {train_X.shape[0]}\")\n",
    "print(f\"No. of testing examples 22MCA1054: {test_X.shape[0]}\")"
   ]
  },
  {
   "cell_type": "markdown",
   "id": "aac1d533",
   "metadata": {},
   "source": [
    "# QUESTION 8"
   ]
  },
  {
   "cell_type": "markdown",
   "id": "334f52c7",
   "metadata": {},
   "source": [
    "## identify and display the appropriate metrics for measuring the accuracy of the linearmodel created above."
   ]
  },
  {
   "cell_type": "code",
   "execution_count": 30,
   "id": "dd6eb6e2",
   "metadata": {},
   "outputs": [
    {
     "name": "stdout",
     "output_type": "stream",
     "text": [
      "MSE 22MCA1054: 15.863140965218257\n",
      "RMSE 22MCA1054: 3.9828558805483105\n"
     ]
    }
   ],
   "source": [
    "from sklearn.metrics import mean_absolute_error, mean_squared_error\n",
    "mse = mean_squared_error(test_y, y_pred)\n",
    "print(\"MSE 22MCA1054:\", mse)\n",
    "rmse = mean_squared_error(test_y, y_pred, squared=False)\n",
    "print(\"RMSE 22MCA1054:\", rmse)\n"
   ]
  }
 ],
 "metadata": {
  "kernelspec": {
   "display_name": "Python 3 (ipykernel)",
   "language": "python",
   "name": "python3"
  },
  "language_info": {
   "codemirror_mode": {
    "name": "ipython",
    "version": 3
   },
   "file_extension": ".py",
   "mimetype": "text/x-python",
   "name": "python",
   "nbconvert_exporter": "python",
   "pygments_lexer": "ipython3",
   "version": "3.9.13"
  }
 },
 "nbformat": 4,
 "nbformat_minor": 5
}
