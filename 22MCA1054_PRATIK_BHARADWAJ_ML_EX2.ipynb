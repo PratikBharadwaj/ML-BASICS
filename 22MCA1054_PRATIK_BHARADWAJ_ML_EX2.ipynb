{
 "cells": [
  {
   "cell_type": "markdown",
   "id": "ea1bfb15",
   "metadata": {},
   "source": [
    "# SIMPLE LINEAR REGRESSION NUMPY PANDAS"
   ]
  },
  {
   "cell_type": "code",
   "execution_count": null,
   "id": "9390dbde",
   "metadata": {},
   "outputs": [],
   "source": [
    "import numpy as np\n",
    "import pandas as pd\n",
    "import seaborn as sns\n",
    "import matplotlib.pyplot as plt\n",
    "from sklearn import preprocessing, svm\n",
    "from sklearn.model_selection import train_test_split\n",
    "from sklearn.linear_model import LinearRegression\n",
    "from importlib import reload\n",
    "plt=reload(plt)"
   ]
  },
  {
   "cell_type": "markdown",
   "id": "569cf1f1",
   "metadata": {},
   "source": [
    "# QUESTION 1"
   ]
  },
  {
   "cell_type": "markdown",
   "id": "16c58c84",
   "metadata": {},
   "source": [
    "## Consider the following sample dataset and write a program to project it in the form of a scatter plot and observe any relationship that exists in between the experience and pay."
   ]
  },
  {
   "cell_type": "code",
   "execution_count": null,
   "id": "94e44c98",
   "metadata": {},
   "outputs": [],
   "source": [
    "data = {'Experience':[2,3,5,13,8,16,11,1,9,4], 'Pay':[15,28,42,64,50,90,58,8,54,30]}\n",
    "df=pd.DataFrame(data)\n",
    "X = df.iloc[:, 0].values.reshape(-1, 1)  # values converts it into a numpy array\n",
    "Y = df.iloc[:, 1].values.reshape(-1, 1)  # -1 means that calculate the dimension of rows, but have 1 column\n",
    "model = LinearRegression()  # create object for the class\n",
    "model.fit(X, Y)  # perform linear regression\n",
    "Y_pred = model.predict(X)  # make predictions"
   ]
  },
  {
   "cell_type": "markdown",
   "id": "21d99aa4",
   "metadata": {},
   "source": [
    "We have our predictions in Y_pred. Now lets visualize the data set and the regression line:"
   ]
  },
  {
   "cell_type": "code",
   "execution_count": null,
   "id": "0e766a6e",
   "metadata": {},
   "outputs": [],
   "source": [
    "plt.scatter(X, Y)\n",
    "plt.xlabel('Experience(in years)')\n",
    "plt.ylabel('Pay (in 1000 Rs.)')\n",
    "plt.title('Relation between Experience and Pay')\n",
    "plt.axis([0,25,0,100])\n",
    "plt.grid(True)\n",
    "plt.plot(X, Y_pred, color='green')\n",
    "plt.show()"
   ]
  },
  {
   "cell_type": "markdown",
   "id": "e0833def",
   "metadata": {},
   "source": [
    "# QUESTION 2"
   ]
  },
  {
   "cell_type": "markdown",
   "id": "8341dde9",
   "metadata": {},
   "source": [
    "## Fill(Find)the following table by using the respective values of 𝒙and y."
   ]
  },
  {
   "cell_type": "code",
   "execution_count": null,
   "id": "2eda9224",
   "metadata": {},
   "outputs": [],
   "source": [
    "x=np.array([2,3,5,13,8,16,11,1,9,4])\n",
    "y=np.array([15,28,42,64,50,90,58,8,54,30])"
   ]
  },
  {
   "cell_type": "code",
   "execution_count": null,
   "id": "de75e18c",
   "metadata": {},
   "outputs": [],
   "source": [
    "print(x)"
   ]
  },
  {
   "cell_type": "code",
   "execution_count": null,
   "id": "39a17d1d",
   "metadata": {},
   "outputs": [],
   "source": [
    "print(y)"
   ]
  },
  {
   "cell_type": "code",
   "execution_count": null,
   "id": "823063f2",
   "metadata": {},
   "outputs": [],
   "source": [
    "#xbar =mean of x\n",
    "xbar=np.mean(x)\n",
    "xbar"
   ]
  },
  {
   "cell_type": "code",
   "execution_count": null,
   "id": "e7fb9733",
   "metadata": {},
   "outputs": [],
   "source": [
    "a=x-xbar\n",
    "a"
   ]
  },
  {
   "cell_type": "code",
   "execution_count": null,
   "id": "50dd8f1c",
   "metadata": {},
   "outputs": [],
   "source": [
    "#ybar =mean of y\n",
    "ybar=np.mean(y)\n",
    "ybar"
   ]
  },
  {
   "cell_type": "code",
   "execution_count": null,
   "id": "bcfa3c5f",
   "metadata": {
    "scrolled": true
   },
   "outputs": [],
   "source": [
    "b = y-ybar\n",
    "b"
   ]
  },
  {
   "cell_type": "code",
   "execution_count": null,
   "id": "410e2a98",
   "metadata": {},
   "outputs": [],
   "source": [
    "c=((x-xbar)*(y-ybar))\n",
    "c"
   ]
  },
  {
   "cell_type": "code",
   "execution_count": null,
   "id": "c649be98",
   "metadata": {},
   "outputs": [],
   "source": [
    "d=(x-xbar)**2\n",
    "d"
   ]
  },
  {
   "cell_type": "code",
   "execution_count": null,
   "id": "0a14e766",
   "metadata": {},
   "outputs": [],
   "source": [
    "#plotting a data frame\n",
    "df = pd.DataFrame({'x':x,\n",
    "                  'y':y,\n",
    "                  'x-xbar': a,\n",
    "                   'y-ybar': b,\n",
    "                   '((x-xbar)*(y-ybar))': c,\n",
    "                   '(x-xbar)**2': d,\n",
    "                  })"
   ]
  },
  {
   "cell_type": "code",
   "execution_count": null,
   "id": "4d301aa1",
   "metadata": {
    "scrolled": true
   },
   "outputs": [],
   "source": [
    "df"
   ]
  },
  {
   "cell_type": "code",
   "execution_count": null,
   "id": "10ad930d",
   "metadata": {},
   "outputs": [],
   "source": [
    "df['x'].sum()"
   ]
  },
  {
   "cell_type": "code",
   "execution_count": null,
   "id": "cceda419",
   "metadata": {},
   "outputs": [],
   "source": [
    "df['y'].sum()"
   ]
  },
  {
   "cell_type": "code",
   "execution_count": null,
   "id": "547e4009",
   "metadata": {},
   "outputs": [],
   "source": [
    "a=df['x-xbar'].sum()\n",
    "a"
   ]
  },
  {
   "cell_type": "code",
   "execution_count": null,
   "id": "606d5eda",
   "metadata": {},
   "outputs": [],
   "source": [
    "df['y-ybar'].sum()"
   ]
  },
  {
   "cell_type": "code",
   "execution_count": null,
   "id": "7dfea63a",
   "metadata": {
    "scrolled": true
   },
   "outputs": [],
   "source": [
    "df['((x-xbar)*(y-ybar))'].sum()"
   ]
  },
  {
   "cell_type": "code",
   "execution_count": null,
   "id": "31dd49a2",
   "metadata": {
    "scrolled": true
   },
   "outputs": [],
   "source": [
    "df['(x-xbar)**2'].sum()"
   ]
  },
  {
   "cell_type": "markdown",
   "id": "72ea7d2e",
   "metadata": {},
   "source": [
    "# QUESTION 3"
   ]
  },
  {
   "cell_type": "markdown",
   "id": "c0d1d679",
   "metadata": {},
   "source": [
    "## Use the above table and solve the following equations (using OLS method) for finding the values of 𝑤0 and 𝑤1."
   ]
  },
  {
   "cell_type": "code",
   "execution_count": null,
   "id": "3e90de25",
   "metadata": {},
   "outputs": [],
   "source": [
    "w0=print(model.intercept_)"
   ]
  },
  {
   "cell_type": "code",
   "execution_count": null,
   "id": "127a8419",
   "metadata": {},
   "outputs": [],
   "source": [
    "w1=print(model.coef_)"
   ]
  },
  {
   "cell_type": "markdown",
   "id": "2056311a",
   "metadata": {},
   "source": [
    "# QUESTION 4"
   ]
  },
  {
   "cell_type": "markdown",
   "id": "8e66ea91",
   "metadata": {},
   "source": [
    "## Write a python program to find the above two values (𝑤0 and 𝑤1) for any given dataset."
   ]
  },
  {
   "cell_type": "code",
   "execution_count": null,
   "id": "f9dd8f6e",
   "metadata": {},
   "outputs": [],
   "source": [
    "w1=df['((x-xbar)*(y-ybar))'].sum()/df['(x-xbar)**2'].sum()\n",
    "w1"
   ]
  },
  {
   "cell_type": "code",
   "execution_count": null,
   "id": "65c8d252",
   "metadata": {},
   "outputs": [],
   "source": [
    "w0=ybar-(w1*(xbar))\n",
    "w0"
   ]
  },
  {
   "cell_type": "markdown",
   "id": "10c6760c",
   "metadata": {},
   "source": [
    "# QUESTION 5"
   ]
  },
  {
   "cell_type": "markdown",
   "id": "4fbc4636",
   "metadata": {},
   "source": [
    "## Write a python program to find the above two values (𝑤0 and 𝑤1) for any given dataset using Normal Equations."
   ]
  },
  {
   "cell_type": "code",
   "execution_count": null,
   "id": "788821b2",
   "metadata": {},
   "outputs": [],
   "source": [
    "X=np.array([2,3,5,13,8,16,11,1,9,4]).reshape(-1, 1)\n",
    "y=np.array([15,28,42,64,50,90,58,8,54,30]).reshape(-1, 1)"
   ]
  },
  {
   "cell_type": "markdown",
   "id": "bdd57722",
   "metadata": {},
   "source": [
    "Find Theta Function"
   ]
  },
  {
   "cell_type": "code",
   "execution_count": null,
   "id": "675149ca",
   "metadata": {},
   "outputs": [],
   "source": [
    "def find_theta(X, y):\n",
    "    \n",
    "    m = X.shape[0] # Number of training examples. \n",
    "    \n",
    "    # Appending a cloumn of ones in X to add the bias term.\n",
    "    X = np.append(X, np.ones((m,1)), axis=1)    \n",
    "    \n",
    "    # The Normal Equation\n",
    "    theta = np.dot(np.linalg.inv(np.dot(X.T, X)), np.dot(X.T, y))\n",
    "    \n",
    "    return theta"
   ]
  },
  {
   "cell_type": "code",
   "execution_count": null,
   "id": "18446a94",
   "metadata": {
    "scrolled": false
   },
   "outputs": [],
   "source": [
    "# Getting the Value of theta using the find_theta function.\n",
    "theta = find_theta(X, *y)\n",
    "print(\"w1 :\",theta[0])\n",
    "print(\"w0 :\",theta[1])"
   ]
  },
  {
   "cell_type": "markdown",
   "id": "84e0d46d",
   "metadata": {},
   "source": [
    "# QUESTION 6"
   ]
  },
  {
   "cell_type": "markdown",
   "id": "d3a62c31",
   "metadata": {},
   "source": [
    "## Write a python program to find the above two values (𝑤0 and 𝑤1) for any given dataset using gradient descent."
   ]
  },
  {
   "cell_type": "code",
   "execution_count": null,
   "id": "08286024",
   "metadata": {},
   "outputs": [],
   "source": [
    "# Define a function to perform gradient descent\n",
    "def gradient_descent(x, y, alpha, num_iterations):\n",
    "    m = len(x)\n",
    "    w0 = 0\n",
    "    w1 = 0\n",
    "\n",
    "    # Loop through the specified number of iterations\n",
    "    for i in range(num_iterations):\n",
    "        # Calculate the predicted values\n",
    "        y_pred = w0 + w1 * x\n",
    "\n",
    "        # Calculate the cost function\n",
    "        cost = (1 / (2 * m)) * sum((y_pred - y) ** 2)\n",
    "\n",
    "        # Calculate the partial derivatives of the cost function with respect to w0 and w1\n",
    "        d_w0 = (1 / m) * sum(y_pred - y)\n",
    "        d_w1 = (1 / m) * sum((y_pred - y) * x)\n",
    "\n",
    "        # Update w0 and w1\n",
    "        w0 = w0 - alpha * d_w0\n",
    "        w1 = w1 - alpha * d_w1\n",
    "\n",
    "    return w0, w1\n",
    "\n",
    "# Define a sample dataset\n",
    "X=np.array([2,3,5,13,8,16,11,1,9,4])\n",
    "y=np.array([15,28,42,64,50,90,58,8,54,30])\n",
    "\n",
    "# Define the learning rate and number of iterations\n",
    "alpha = 0.01\n",
    "num_iterations = 1000\n",
    "\n",
    "# Perform gradient descent on the dataset\n",
    "w0, w1 = gradient_descent(x, y, alpha, num_iterations)\n",
    "\n",
    "# Print the values of w0 and w1\n",
    "print(\"w0 = 22MID6666\", w0)\n",
    "print(\"w1 = 22MID6666\", w1)"
   ]
  },
  {
   "cell_type": "markdown",
   "id": "38c66e52",
   "metadata": {},
   "source": [
    "# QUESTION 7"
   ]
  },
  {
   "cell_type": "markdown",
   "id": "07f7a0ec",
   "metadata": {},
   "source": [
    "## Write a python program to store the above dataset as pandas data-frame and implement linear regression model by splitting the dataset into training set and testing set (80:20)."
   ]
  },
  {
   "cell_type": "code",
   "execution_count": null,
   "id": "7d47cf31",
   "metadata": {},
   "outputs": [],
   "source": [
    "data = {'x': [2,3,5,13,8,16,11,1,9,4], 'y': [15,28,42,64,50,90,58,8,54,30]}\n",
    "df = pd.DataFrame(data)\n",
    "data = pd.DataFrame({'experience': x, 'pay': y})\n",
    "\n",
    "# split the dataset\n",
    "train_data, test_data = train_test_split(data, test_size=0.2, random_state=42)\n",
    "\n",
    "\n",
    "train_X = train_data[['experience']]\n",
    "train_y = train_data[['pay']]\n",
    "test_X = test_data[['experience']]\n",
    "test_y = test_data[['pay']]\n",
    "reg = LinearRegression().fit(train_X, train_y)\n",
    "print(\"Intercept:\", reg.intercept_)\n",
    "print(\"Coefficient:\", reg.coef_)\n",
    "y_pred = reg.predict(test_X)\n",
    "r_squared = reg.score(test_X, test_y)\n",
    "print(\"R-squared:\", r_squared)\n",
    "\n",
    "print(f\"No. of training examples 22MID6666: {train_X.shape[0]}\")\n",
    "print(f\"No. of testing examples 22MID6666: {test_X.shape[0]}\")"
   ]
  },
  {
   "cell_type": "markdown",
   "id": "aac1d533",
   "metadata": {},
   "source": [
    "# QUESTION 8"
   ]
  },
  {
   "cell_type": "markdown",
   "id": "334f52c7",
   "metadata": {},
   "source": [
    "## identify and display the appropriate metrics for measuring the accuracy of the linearmodel created above."
   ]
  },
  {
   "cell_type": "code",
   "execution_count": null,
   "id": "dd6eb6e2",
   "metadata": {},
   "outputs": [],
   "source": [
    "from sklearn.metrics import mean_absolute_error, mean_squared_error\n",
    "mse = mean_squared_error(test_y, y_pred)\n",
    "print(\"MSE 22MID6666:\", mse)\n",
    "rmse = mean_squared_error(test_y, y_pred, squared=False)\n",
    "print(\"RMSE 22MID6666:\", rmse)"
   ]
  }
 ],
 "metadata": {
  "kernelspec": {
   "display_name": "Python 3 (ipykernel)",
   "language": "python",
   "name": "python3"
  },
  "language_info": {
   "codemirror_mode": {
    "name": "ipython",
    "version": 3
   },
   "file_extension": ".py",
   "mimetype": "text/x-python",
   "name": "python",
   "nbconvert_exporter": "python",
   "pygments_lexer": "ipython3",
   "version": "3.9.13"
  }
 },
 "nbformat": 4,
 "nbformat_minor": 5
}
