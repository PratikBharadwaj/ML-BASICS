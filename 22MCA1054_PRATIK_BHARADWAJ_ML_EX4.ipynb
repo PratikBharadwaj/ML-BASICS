{
 "cells": [
  {
   "cell_type": "markdown",
   "id": "49dbb6be",
   "metadata": {},
   "source": [
    "# LOGISTIC REGRESSION"
   ]
  },
  {
   "cell_type": "markdown",
   "id": "77e90d6f",
   "metadata": {},
   "source": [
    "# 1. Load the Titanic dataset from Kaggle to working environment."
   ]
  },
  {
   "cell_type": "code",
   "execution_count": null,
   "id": "17686595",
   "metadata": {},
   "outputs": [],
   "source": [
    "import pandas as pd "
   ]
  },
  {
   "cell_type": "code",
   "execution_count": null,
   "id": "131bb1a4",
   "metadata": {},
   "outputs": [],
   "source": [
    "!pip install kaggle"
   ]
  },
  {
   "cell_type": "code",
   "execution_count": null,
   "id": "8c7bc2b9",
   "metadata": {},
   "outputs": [],
   "source": [
    "import pandas as pd\n",
    "from kaggle.api.kaggle_api_extended import KaggleApi\n",
    "\n",
    "api = KaggleApi()\n",
    "api.authenticate()\n",
    "\n",
    "api.dataset_download_files('heptapod/titanic')\n",
    "!unzip titanic.zip"
   ]
  },
  {
   "cell_type": "code",
   "execution_count": null,
   "id": "937bcd25",
   "metadata": {
    "scrolled": false
   },
   "outputs": [],
   "source": [
    "df = pd.read_csv('train_and_test2.csv')\n",
    "print(df.head())"
   ]
  },
  {
   "cell_type": "markdown",
   "id": "65825a83",
   "metadata": {},
   "source": [
    "# 2. Perform exploratory analysis on the loaded dataset and draw your inferences.\n"
   ]
  },
  {
   "cell_type": "code",
   "execution_count": null,
   "id": "eb6928ce",
   "metadata": {},
   "outputs": [],
   "source": [
    "# Change the column name as the name is not correct\n",
    "df.rename(columns={'2urvived': 'Survived'}, inplace=True)\n",
    "\n",
    "# Print the first few rows to verify the change\n",
    "print(df.head())"
   ]
  },
  {
   "cell_type": "code",
   "execution_count": null,
   "id": "2f16c6a9",
   "metadata": {
    "scrolled": false
   },
   "outputs": [],
   "source": [
    "import pandas as pd\n",
    "import matplotlib.pyplot as plt\n",
    "import seaborn as sns\n",
    "\n",
    "# Overview of data\n",
    "print(df.head())\n",
    "\n",
    "# Summary\n",
    "print(df.describe())\n",
    "\n",
    "# Check for missing values\n",
    "print(df.isnull().sum())\n",
    "df = df.dropna()\n",
    "\n",
    "\n",
    "# Check data types\n",
    "print(df.dtypes)\n",
    "\n",
    "# Visualize distribution of Age\n",
    "plt.figure(figsize=(10, 6))\n",
    "sns.histplot(df['Age'], bins=20)\n",
    "plt.title('Distribution of Age')\n",
    "plt.xlabel('Age')\n",
    "plt.ylabel('Count')\n",
    "plt.show()\n",
    "\n",
    "# Visualize survival rate by gender\n",
    "plt.figure(figsize=(6, 6))\n",
    "sns.barplot(x='Sex', y='Survived', data=df)\n",
    "plt.title('Survival Rate by Gender')\n",
    "plt.xlabel('Gender')\n",
    "plt.ylabel('Survival Rate')\n",
    "plt.show()\n",
    "\n",
    "# Visualize survival rate by passenger class\n",
    "plt.figure(figsize=(6, 6))\n",
    "sns.barplot(x='Pclass', y='Survived', data=df)\n",
    "plt.title('Survival Rate by Passenger Class')\n",
    "plt.xlabel('Passenger Class')\n",
    "plt.ylabel('Survival Rate')\n",
    "plt.show()"
   ]
  },
  {
   "cell_type": "code",
   "execution_count": null,
   "id": "17fa849d",
   "metadata": {
    "scrolled": true
   },
   "outputs": [],
   "source": [
    "print(df.groupby(['Sex', 'Survived'])['Survived'].count())"
   ]
  },
  {
   "cell_type": "markdown",
   "id": "6abe194c",
   "metadata": {},
   "source": [
    "-------------------------------------------------------------------------Extract insights and draw conclusions-------------------------------------------------------------------------------------\n",
    "### We can see that the majority of passengers did who survived are female than male , and that there were more male passengers than female passengers. We can also see that passengers in first class were more likely to survive than those in second or third class."
   ]
  },
  {
   "cell_type": "markdown",
   "id": "af645450",
   "metadata": {},
   "source": [
    "# 3. From the above analysis if any attributes are not relevant in accessing the survival pattern of the passenger then drop those columns."
   ]
  },
  {
   "cell_type": "code",
   "execution_count": null,
   "id": "6296e31c",
   "metadata": {},
   "outputs": [],
   "source": [
    "df.drop(['zero'], axis=1, inplace=True)"
   ]
  },
  {
   "cell_type": "code",
   "execution_count": null,
   "id": "5cf3d7ba",
   "metadata": {},
   "outputs": [],
   "source": [
    "df.drop(['zero.1'], axis=1, inplace=True)"
   ]
  },
  {
   "cell_type": "code",
   "execution_count": null,
   "id": "0019302c",
   "metadata": {},
   "outputs": [],
   "source": [
    "df.drop(['zero.2'], axis=1, inplace=True)"
   ]
  },
  {
   "cell_type": "code",
   "execution_count": null,
   "id": "38372502",
   "metadata": {},
   "outputs": [],
   "source": [
    "df.drop(['zero.3'], axis=1, inplace=True)"
   ]
  },
  {
   "cell_type": "code",
   "execution_count": null,
   "id": "c6d8cb15",
   "metadata": {},
   "outputs": [],
   "source": [
    "df.drop(['zero.4'], axis=1, inplace=True)"
   ]
  },
  {
   "cell_type": "code",
   "execution_count": null,
   "id": "7fee96b6",
   "metadata": {},
   "outputs": [],
   "source": [
    "df.drop(['zero.5'], axis=1, inplace=True)"
   ]
  },
  {
   "cell_type": "code",
   "execution_count": null,
   "id": "22d57dce",
   "metadata": {},
   "outputs": [],
   "source": [
    "df.drop(['zero.6'], axis=1, inplace=True)"
   ]
  },
  {
   "cell_type": "code",
   "execution_count": null,
   "id": "a3b5c326",
   "metadata": {},
   "outputs": [],
   "source": [
    "df.drop(['zero.7'], axis=1, inplace=True)"
   ]
  },
  {
   "cell_type": "code",
   "execution_count": null,
   "id": "e8bb5199",
   "metadata": {},
   "outputs": [],
   "source": [
    "df.drop(['zero.8'], axis=1, inplace=True)"
   ]
  },
  {
   "cell_type": "code",
   "execution_count": null,
   "id": "bbb7d177",
   "metadata": {},
   "outputs": [],
   "source": [
    "df.drop(['zero.9'], axis=1, inplace=True)"
   ]
  },
  {
   "cell_type": "code",
   "execution_count": null,
   "id": "996afc9c",
   "metadata": {},
   "outputs": [],
   "source": [
    "df.drop(['zero.10'], axis=1, inplace=True)"
   ]
  },
  {
   "cell_type": "code",
   "execution_count": null,
   "id": "6d286432",
   "metadata": {},
   "outputs": [],
   "source": [
    "df.drop(['zero.11'], axis=1, inplace=True)"
   ]
  },
  {
   "cell_type": "code",
   "execution_count": null,
   "id": "2330932d",
   "metadata": {},
   "outputs": [],
   "source": [
    "df.drop(['zero.12'], axis=1, inplace=True)"
   ]
  },
  {
   "cell_type": "code",
   "execution_count": null,
   "id": "99c732fd",
   "metadata": {},
   "outputs": [],
   "source": [
    "df.drop(['zero.13'], axis=1, inplace=True)"
   ]
  },
  {
   "cell_type": "code",
   "execution_count": null,
   "id": "09814044",
   "metadata": {},
   "outputs": [],
   "source": [
    "df.drop(['zero.14'], axis=1, inplace=True)"
   ]
  },
  {
   "cell_type": "code",
   "execution_count": null,
   "id": "6f5f6163",
   "metadata": {},
   "outputs": [],
   "source": [
    "df.drop(['zero.15'], axis=1, inplace=True)"
   ]
  },
  {
   "cell_type": "code",
   "execution_count": null,
   "id": "8b1201f4",
   "metadata": {},
   "outputs": [],
   "source": [
    "df.drop(['zero.16'], axis=1, inplace=True)"
   ]
  },
  {
   "cell_type": "code",
   "execution_count": null,
   "id": "9e5b28b3",
   "metadata": {},
   "outputs": [],
   "source": [
    "df.drop(['zero.17'], axis=1, inplace=True)"
   ]
  },
  {
   "cell_type": "code",
   "execution_count": null,
   "id": "aaf5f976",
   "metadata": {},
   "outputs": [],
   "source": [
    "df.drop(['zero.18'], axis=1, inplace=True)"
   ]
  },
  {
   "cell_type": "code",
   "execution_count": null,
   "id": "1ebf6d25",
   "metadata": {},
   "outputs": [],
   "source": [
    "df.drop(['Fare'], axis=1, inplace=True)"
   ]
  },
  {
   "cell_type": "code",
   "execution_count": null,
   "id": "9857377f",
   "metadata": {},
   "outputs": [],
   "source": [
    "df.drop(['Parch'], axis=1, inplace=True)"
   ]
  },
  {
   "cell_type": "code",
   "execution_count": null,
   "id": "9e0cb77e",
   "metadata": {},
   "outputs": [],
   "source": [
    "df.drop(['Embarked'], axis=1, inplace=True)"
   ]
  },
  {
   "cell_type": "code",
   "execution_count": null,
   "id": "b6be63a5",
   "metadata": {},
   "outputs": [],
   "source": [
    "df.drop(['sibsp'], axis=1, inplace=True)"
   ]
  },
  {
   "cell_type": "code",
   "execution_count": null,
   "id": "f526c663",
   "metadata": {
    "scrolled": false
   },
   "outputs": [],
   "source": [
    "df.head()"
   ]
  },
  {
   "cell_type": "markdown",
   "id": "afa850f1",
   "metadata": {},
   "source": [
    "# 4. Check for the missing values in the modified dataset and fill the missing values with appropriate methods. "
   ]
  },
  {
   "cell_type": "code",
   "execution_count": null,
   "id": "d057578c",
   "metadata": {
    "scrolled": true
   },
   "outputs": [],
   "source": [
    "# Check for missing values\n",
    "print(df[['Passengerid', 'Age', 'Sex', 'Pclass', 'Survived']].isnull().sum())"
   ]
  },
  {
   "cell_type": "code",
   "execution_count": null,
   "id": "91ad9151",
   "metadata": {},
   "outputs": [],
   "source": [
    "# Since there are no missing values in the modified dataset, there is no need to fill any missing values. However, \n",
    "# if there were missing values, the appropriate method to fill them would depend on the nature of the missing data\n",
    "# and the specific attribute."
   ]
  },
  {
   "cell_type": "markdown",
   "id": "fcbb62ab",
   "metadata": {},
   "source": [
    "# 5. Split the modified dataset into 80-20 ratio for training and testing."
   ]
  },
  {
   "cell_type": "code",
   "execution_count": null,
   "id": "b4a22695",
   "metadata": {},
   "outputs": [],
   "source": [
    "from sklearn.model_selection import train_test_split\n",
    "\n",
    "X = df.drop(['Survived'], axis=1)  # Independent variables\n",
    "y = df['Survived']  # Dependent variable\n",
    "\n",
    "X_train, X_test, y_train, y_test = train_test_split(X, y, test_size=0.2, random_state=42)"
   ]
  },
  {
   "cell_type": "code",
   "execution_count": null,
   "id": "d5c92de5",
   "metadata": {
    "scrolled": false
   },
   "outputs": [],
   "source": [
    "X_train"
   ]
  },
  {
   "cell_type": "code",
   "execution_count": null,
   "id": "9df9effe",
   "metadata": {
    "scrolled": true
   },
   "outputs": [],
   "source": [
    "y_train"
   ]
  },
  {
   "cell_type": "code",
   "execution_count": null,
   "id": "5df90fca",
   "metadata": {
    "scrolled": false
   },
   "outputs": [],
   "source": [
    "X_test"
   ]
  },
  {
   "cell_type": "code",
   "execution_count": null,
   "id": "54347de1",
   "metadata": {},
   "outputs": [],
   "source": [
    "y_train"
   ]
  },
  {
   "cell_type": "code",
   "execution_count": null,
   "id": "f2829062",
   "metadata": {
    "scrolled": true
   },
   "outputs": [],
   "source": [
    "y_test"
   ]
  },
  {
   "cell_type": "markdown",
   "id": "563dfcb2",
   "metadata": {},
   "source": [
    "# 6. Apply Logistic Regression and design a model on the training data."
   ]
  },
  {
   "cell_type": "code",
   "execution_count": null,
   "id": "d26235ef",
   "metadata": {
    "scrolled": true
   },
   "outputs": [],
   "source": [
    "from sklearn.linear_model import LogisticRegression\n",
    "from sklearn.metrics import accuracy_score\n",
    "\n",
    "# Split the data into training and testing sets\n",
    "X_train, X_test, y_train, y_test = train_test_split(X, y, test_size=0.2, random_state=42)\n",
    "\n",
    "# Create a logistic regression model\n",
    "model = LogisticRegression()\n",
    "\n",
    "# Train the model on the training data\n",
    "model.fit(X_train, y_train)\n",
    "\n",
    "# Use the trained model to predict the survival of the passengers in the test set\n",
    "y_pred = model.predict(X_test)\n",
    "\n",
    "# Evaluate the accuracy of the model on the test set\n",
    "accuracy = accuracy_score(y_test, y_pred)\n",
    "print(\"Accuracy:\", accuracy)"
   ]
  },
  {
   "cell_type": "markdown",
   "id": "205d74af",
   "metadata": {},
   "source": [
    "# 7. Fit the created model on the test data."
   ]
  },
  {
   "cell_type": "code",
   "execution_count": null,
   "id": "2f6d8697",
   "metadata": {
    "scrolled": true
   },
   "outputs": [],
   "source": [
    "# Predict output for test data\n",
    "y_pred = model.predict(X_test)\n",
    "\n",
    "# Print the predicted values\n",
    "print(y_pred)"
   ]
  },
  {
   "cell_type": "code",
   "execution_count": null,
   "id": "7a497c19",
   "metadata": {},
   "outputs": [],
   "source": [
    "# Evaluate performance of model\n",
    "from sklearn.metrics import accuracy_score\n",
    "accuracy = accuracy_score(y_test, y_pred)\n",
    "print(\"Accuracy:\", accuracy)"
   ]
  },
  {
   "cell_type": "code",
   "execution_count": null,
   "id": "3f3c73d2",
   "metadata": {
    "scrolled": true
   },
   "outputs": [],
   "source": [
    "model.predict_proba(X_test)"
   ]
  },
  {
   "cell_type": "code",
   "execution_count": null,
   "id": "fafad468",
   "metadata": {
    "scrolled": true
   },
   "outputs": [],
   "source": [
    "model.score(X_test,y_test)"
   ]
  },
  {
   "cell_type": "markdown",
   "id": "e5f0274d",
   "metadata": {},
   "source": [
    "# iris dataset sklean "
   ]
  },
  {
   "cell_type": "code",
   "execution_count": null,
   "id": "3d68c6e1",
   "metadata": {},
   "outputs": [],
   "source": [
    "# load the iris dataset as an example\n",
    "from sklearn.datasets import load_iris\n",
    "iris = load_iris()\n",
    "\n",
    "# store the feature matrix (X) and response vector (y)\n",
    "X = iris.data\n",
    "y = iris.target\n",
    "\n",
    "# store the feature and target names\n",
    "feature_names = iris.feature_names\n",
    "target_names = iris.target_names\n",
    "\n",
    "# printing features and target names of our dataset\n",
    "print(\"Feature names:\", feature_names)\n",
    "print(\"Target names:\", target_names)\n",
    "\n",
    "# X and y are numpy arrays\n",
    "print(\"\\nType of X is:\", type(X))\n",
    "\n",
    "# printing first 5 input rows\n",
    "print(\"\\nFirst 5 rows of X:\\n\", X[:5])"
   ]
  }
 ],
 "metadata": {
  "kernelspec": {
   "display_name": "Python 3 (ipykernel)",
   "language": "python",
   "name": "python3"
  },
  "language_info": {
   "codemirror_mode": {
    "name": "ipython",
    "version": 3
   },
   "file_extension": ".py",
   "mimetype": "text/x-python",
   "name": "python",
   "nbconvert_exporter": "python",
   "pygments_lexer": "ipython3",
   "version": "3.9.13"
  }
 },
 "nbformat": 4,
 "nbformat_minor": 5
}
