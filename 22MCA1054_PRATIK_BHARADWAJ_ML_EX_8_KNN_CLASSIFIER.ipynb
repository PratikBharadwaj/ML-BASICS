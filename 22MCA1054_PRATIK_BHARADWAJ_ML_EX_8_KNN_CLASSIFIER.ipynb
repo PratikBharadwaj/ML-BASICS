{
 "cells": [
  {
   "cell_type": "markdown",
   "id": "9f660f88",
   "metadata": {},
   "source": [
    "# KNN"
   ]
  },
  {
   "cell_type": "markdown",
   "id": "b9a9e7eb",
   "metadata": {},
   "source": [
    "# 1. Load the dataset (titanic.csv)."
   ]
  },
  {
   "cell_type": "code",
   "execution_count": null,
   "id": "c9a1259b",
   "metadata": {},
   "outputs": [],
   "source": [
    "#importing pandas library\n",
    "import pandas as pd\n",
    "\n",
    "#loading data\n",
    "titanic = pd.read_csv('https://web.stanford.edu/class/archive/cs/cs109/cs109.1166/stuff/titanic.csv')\n",
    "titanic.head()"
   ]
  },
  {
   "cell_type": "code",
   "execution_count": null,
   "id": "7472e316",
   "metadata": {},
   "outputs": [],
   "source": [
    "titanic.describe()"
   ]
  },
  {
   "cell_type": "code",
   "execution_count": null,
   "id": "53c5da9b",
   "metadata": {},
   "outputs": [],
   "source": [
    "titanic.Sex[titanic['Sex'] == 'male'] = 1\n",
    "titanic.Sex[titanic['Sex'] == 'female'] = 0\n",
    "titanic.head()"
   ]
  },
  {
   "cell_type": "code",
   "execution_count": null,
   "id": "989a7945",
   "metadata": {},
   "outputs": [],
   "source": [
    "titanic.drop(['Name'], axis=1)"
   ]
  },
  {
   "cell_type": "markdown",
   "id": "74747423",
   "metadata": {},
   "source": [
    "# 2. Split dataset into test and train (20:80)."
   ]
  },
  {
   "cell_type": "code",
   "execution_count": null,
   "id": "4886a2a7",
   "metadata": {},
   "outputs": [],
   "source": [
    "from sklearn.model_selection import train_test_split\n",
    "X = titanic.loc[:, ~titanic.columns.isin(['Name', 'Survived'])]\n",
    "y = titanic.iloc[:, 0]"
   ]
  },
  {
   "cell_type": "code",
   "execution_count": null,
   "id": "fa2817bc",
   "metadata": {},
   "outputs": [],
   "source": [
    "X_train, X_test, y_train, y_test = train_test_split(X, y, test_size = 0.2, random_state = 42)"
   ]
  },
  {
   "cell_type": "code",
   "execution_count": null,
   "id": "4674c53f",
   "metadata": {},
   "outputs": [],
   "source": [
    "X.head()"
   ]
  },
  {
   "cell_type": "markdown",
   "id": "7258bd3f",
   "metadata": {},
   "source": [
    "# 3. Build KNN classifier with k value as 2 for identifying the flower Species."
   ]
  },
  {
   "cell_type": "code",
   "execution_count": null,
   "id": "580a7004",
   "metadata": {},
   "outputs": [],
   "source": [
    "from sklearn.neighbors import KNeighborsClassifier\n",
    "\n",
    "knn_2 = KNeighborsClassifier(n_neighbors = 2)\n",
    "knn_2.fit(X_train, y_train)"
   ]
  },
  {
   "cell_type": "markdown",
   "id": "c7590a98",
   "metadata": {},
   "source": [
    "# 4. Build KNN classifier with k value as 4 for identifying the flower Species."
   ]
  },
  {
   "cell_type": "code",
   "execution_count": null,
   "id": "93883f0f",
   "metadata": {},
   "outputs": [],
   "source": [
    "knn_4 = KNeighborsClassifier(n_neighbors = 4)\n",
    "knn_4.fit(X_train, y_train)"
   ]
  },
  {
   "cell_type": "markdown",
   "id": "9fc5004d",
   "metadata": {},
   "source": [
    "# 5. Evaluate the step-3 and step-4."
   ]
  },
  {
   "cell_type": "code",
   "execution_count": null,
   "id": "3eae56e0",
   "metadata": {},
   "outputs": [],
   "source": [
    "from sklearn.metrics import accuracy_score\n",
    "\n",
    "y_pred_2 = knn_2.predict(X_test)\n",
    "y_pred_4 = knn_4.predict(X_test)\n",
    "\n",
    "accuracy_2 = accuracy_score(y_test, y_pred_2)\n",
    "accuracy_4 = accuracy_score(y_test, y_pred_4)\n",
    "\n",
    "print(\"Accuracy for k = 2 is: \", accuracy_2)\n",
    "print(\"Accuracy for k = 4 is: \", accuracy_4)"
   ]
  },
  {
   "cell_type": "markdown",
   "id": "f17595aa",
   "metadata": {},
   "source": [
    "# 6. Design a method for calculating the distance between data points for the given dataset"
   ]
  },
  {
   "cell_type": "code",
   "execution_count": null,
   "id": "2209ca54",
   "metadata": {},
   "outputs": [],
   "source": [
    "def euclidean_distance(x1, x2):\n",
    "    return np.sqrt(np.sum((x1 - x2) ** 2))"
   ]
  },
  {
   "cell_type": "markdown",
   "id": "96fb0f1a",
   "metadata": {},
   "source": [
    "# 7. Design a method for finding the nearest neighbours of a given data point using the above method."
   ]
  },
  {
   "cell_type": "code",
   "execution_count": null,
   "id": "71a57420",
   "metadata": {},
   "outputs": [],
   "source": [
    "def get_nearest_neighbors(X_train, x, k):\n",
    "    distances = [euclidean_distance(x, x_train) for x_train in X_train]\n",
    "    sorted_indices = np.argsort(distances)[:k]\n",
    "    return sorted_indices"
   ]
  },
  {
   "cell_type": "markdown",
   "id": "e88f542c",
   "metadata": {},
   "source": [
    "# 8. Design a method predicting the data point using the above two methods."
   ]
  },
  {
   "cell_type": "code",
   "execution_count": null,
   "id": "67f1498b",
   "metadata": {},
   "outputs": [],
   "source": [
    "def predict(X_train, y_train, x, k):\n",
    "    nearest_indices = get_nearest_neighbors(X_train, x, k)\n",
    "    nearest_labels = y_train[nearest_indices]\n",
    "    return np.argmax(np.bincount(nearest_labels))"
   ]
  }
 ],
 "metadata": {
  "kernelspec": {
   "display_name": "Python 3 (ipykernel)",
   "language": "python",
   "name": "python3"
  },
  "language_info": {
   "codemirror_mode": {
    "name": "ipython",
    "version": 3
   },
   "file_extension": ".py",
   "mimetype": "text/x-python",
   "name": "python",
   "nbconvert_exporter": "python",
   "pygments_lexer": "ipython3",
   "version": "3.9.13"
  }
 },
 "nbformat": 4,
 "nbformat_minor": 5
}
