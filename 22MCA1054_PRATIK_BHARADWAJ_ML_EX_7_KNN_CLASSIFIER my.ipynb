{
 "cells": [
  {
   "cell_type": "markdown",
   "id": "e976fab9",
   "metadata": {},
   "source": [
    "# 1. Load the dataset (iris.csv)."
   ]
  },
  {
   "cell_type": "code",
   "execution_count": 1,
   "id": "96efd9a7",
   "metadata": {
    "scrolled": true
   },
   "outputs": [],
   "source": [
    "from sklearn.datasets import load_iris"
   ]
  },
  {
   "cell_type": "code",
   "execution_count": 2,
   "id": "3912e7b8",
   "metadata": {
    "scrolled": true
   },
   "outputs": [
    {
     "name": "stdout",
     "output_type": "stream",
     "text": [
      "['sepal length (cm)', 'sepal width (cm)', 'petal length (cm)', 'petal width (cm)']\n",
      "['setosa' 'versicolor' 'virginica']\n"
     ]
    }
   ],
   "source": [
    "data = load_iris()\n",
    "print (data.feature_names)\n",
    "print (data.target_names)"
   ]
  },
  {
   "cell_type": "markdown",
   "id": "80492999",
   "metadata": {},
   "source": [
    "converting the iris dataset into pandas dataframe"
   ]
  },
  {
   "cell_type": "code",
   "execution_count": 3,
   "id": "8ff4f9c4",
   "metadata": {},
   "outputs": [],
   "source": [
    "import pandas as pd\n",
    "df = pd.DataFrame(data.data, columns=data.feature_names)\n",
    "df['target'] = pd.Series(data.target)"
   ]
  },
  {
   "cell_type": "code",
   "execution_count": 4,
   "id": "748e0716",
   "metadata": {},
   "outputs": [
    {
     "data": {
      "text/html": [
       "<div>\n",
       "<style scoped>\n",
       "    .dataframe tbody tr th:only-of-type {\n",
       "        vertical-align: middle;\n",
       "    }\n",
       "\n",
       "    .dataframe tbody tr th {\n",
       "        vertical-align: top;\n",
       "    }\n",
       "\n",
       "    .dataframe thead th {\n",
       "        text-align: right;\n",
       "    }\n",
       "</style>\n",
       "<table border=\"1\" class=\"dataframe\">\n",
       "  <thead>\n",
       "    <tr style=\"text-align: right;\">\n",
       "      <th></th>\n",
       "      <th>sepal length (cm)</th>\n",
       "      <th>sepal width (cm)</th>\n",
       "      <th>petal length (cm)</th>\n",
       "      <th>petal width (cm)</th>\n",
       "      <th>target</th>\n",
       "    </tr>\n",
       "  </thead>\n",
       "  <tbody>\n",
       "    <tr>\n",
       "      <th>0</th>\n",
       "      <td>5.1</td>\n",
       "      <td>3.5</td>\n",
       "      <td>1.4</td>\n",
       "      <td>0.2</td>\n",
       "      <td>0</td>\n",
       "    </tr>\n",
       "    <tr>\n",
       "      <th>1</th>\n",
       "      <td>4.9</td>\n",
       "      <td>3.0</td>\n",
       "      <td>1.4</td>\n",
       "      <td>0.2</td>\n",
       "      <td>0</td>\n",
       "    </tr>\n",
       "    <tr>\n",
       "      <th>2</th>\n",
       "      <td>4.7</td>\n",
       "      <td>3.2</td>\n",
       "      <td>1.3</td>\n",
       "      <td>0.2</td>\n",
       "      <td>0</td>\n",
       "    </tr>\n",
       "    <tr>\n",
       "      <th>3</th>\n",
       "      <td>4.6</td>\n",
       "      <td>3.1</td>\n",
       "      <td>1.5</td>\n",
       "      <td>0.2</td>\n",
       "      <td>0</td>\n",
       "    </tr>\n",
       "    <tr>\n",
       "      <th>4</th>\n",
       "      <td>5.0</td>\n",
       "      <td>3.6</td>\n",
       "      <td>1.4</td>\n",
       "      <td>0.2</td>\n",
       "      <td>0</td>\n",
       "    </tr>\n",
       "  </tbody>\n",
       "</table>\n",
       "</div>"
      ],
      "text/plain": [
       "   sepal length (cm)  sepal width (cm)  petal length (cm)  petal width (cm)  \\\n",
       "0                5.1               3.5                1.4               0.2   \n",
       "1                4.9               3.0                1.4               0.2   \n",
       "2                4.7               3.2                1.3               0.2   \n",
       "3                4.6               3.1                1.5               0.2   \n",
       "4                5.0               3.6                1.4               0.2   \n",
       "\n",
       "   target  \n",
       "0       0  \n",
       "1       0  \n",
       "2       0  \n",
       "3       0  \n",
       "4       0  "
      ]
     },
     "execution_count": 4,
     "metadata": {},
     "output_type": "execute_result"
    }
   ],
   "source": [
    "df.head()"
   ]
  },
  {
   "cell_type": "markdown",
   "id": "9913107b",
   "metadata": {},
   "source": [
    "# 2. Split dataset into test and train (20:80)."
   ]
  },
  {
   "cell_type": "code",
   "execution_count": 5,
   "id": "95b96f90",
   "metadata": {},
   "outputs": [],
   "source": [
    "X = df.iloc[:,0:4]\n",
    "y = df.iloc[:,4:5]"
   ]
  },
  {
   "cell_type": "code",
   "execution_count": 6,
   "id": "b1df1975",
   "metadata": {
    "scrolled": false
   },
   "outputs": [
    {
     "data": {
      "text/html": [
       "<div>\n",
       "<style scoped>\n",
       "    .dataframe tbody tr th:only-of-type {\n",
       "        vertical-align: middle;\n",
       "    }\n",
       "\n",
       "    .dataframe tbody tr th {\n",
       "        vertical-align: top;\n",
       "    }\n",
       "\n",
       "    .dataframe thead th {\n",
       "        text-align: right;\n",
       "    }\n",
       "</style>\n",
       "<table border=\"1\" class=\"dataframe\">\n",
       "  <thead>\n",
       "    <tr style=\"text-align: right;\">\n",
       "      <th></th>\n",
       "      <th>sepal length (cm)</th>\n",
       "      <th>sepal width (cm)</th>\n",
       "      <th>petal length (cm)</th>\n",
       "      <th>petal width (cm)</th>\n",
       "    </tr>\n",
       "  </thead>\n",
       "  <tbody>\n",
       "    <tr>\n",
       "      <th>0</th>\n",
       "      <td>5.1</td>\n",
       "      <td>3.5</td>\n",
       "      <td>1.4</td>\n",
       "      <td>0.2</td>\n",
       "    </tr>\n",
       "    <tr>\n",
       "      <th>1</th>\n",
       "      <td>4.9</td>\n",
       "      <td>3.0</td>\n",
       "      <td>1.4</td>\n",
       "      <td>0.2</td>\n",
       "    </tr>\n",
       "    <tr>\n",
       "      <th>2</th>\n",
       "      <td>4.7</td>\n",
       "      <td>3.2</td>\n",
       "      <td>1.3</td>\n",
       "      <td>0.2</td>\n",
       "    </tr>\n",
       "    <tr>\n",
       "      <th>3</th>\n",
       "      <td>4.6</td>\n",
       "      <td>3.1</td>\n",
       "      <td>1.5</td>\n",
       "      <td>0.2</td>\n",
       "    </tr>\n",
       "    <tr>\n",
       "      <th>4</th>\n",
       "      <td>5.0</td>\n",
       "      <td>3.6</td>\n",
       "      <td>1.4</td>\n",
       "      <td>0.2</td>\n",
       "    </tr>\n",
       "    <tr>\n",
       "      <th>...</th>\n",
       "      <td>...</td>\n",
       "      <td>...</td>\n",
       "      <td>...</td>\n",
       "      <td>...</td>\n",
       "    </tr>\n",
       "    <tr>\n",
       "      <th>145</th>\n",
       "      <td>6.7</td>\n",
       "      <td>3.0</td>\n",
       "      <td>5.2</td>\n",
       "      <td>2.3</td>\n",
       "    </tr>\n",
       "    <tr>\n",
       "      <th>146</th>\n",
       "      <td>6.3</td>\n",
       "      <td>2.5</td>\n",
       "      <td>5.0</td>\n",
       "      <td>1.9</td>\n",
       "    </tr>\n",
       "    <tr>\n",
       "      <th>147</th>\n",
       "      <td>6.5</td>\n",
       "      <td>3.0</td>\n",
       "      <td>5.2</td>\n",
       "      <td>2.0</td>\n",
       "    </tr>\n",
       "    <tr>\n",
       "      <th>148</th>\n",
       "      <td>6.2</td>\n",
       "      <td>3.4</td>\n",
       "      <td>5.4</td>\n",
       "      <td>2.3</td>\n",
       "    </tr>\n",
       "    <tr>\n",
       "      <th>149</th>\n",
       "      <td>5.9</td>\n",
       "      <td>3.0</td>\n",
       "      <td>5.1</td>\n",
       "      <td>1.8</td>\n",
       "    </tr>\n",
       "  </tbody>\n",
       "</table>\n",
       "<p>150 rows × 4 columns</p>\n",
       "</div>"
      ],
      "text/plain": [
       "     sepal length (cm)  sepal width (cm)  petal length (cm)  petal width (cm)\n",
       "0                  5.1               3.5                1.4               0.2\n",
       "1                  4.9               3.0                1.4               0.2\n",
       "2                  4.7               3.2                1.3               0.2\n",
       "3                  4.6               3.1                1.5               0.2\n",
       "4                  5.0               3.6                1.4               0.2\n",
       "..                 ...               ...                ...               ...\n",
       "145                6.7               3.0                5.2               2.3\n",
       "146                6.3               2.5                5.0               1.9\n",
       "147                6.5               3.0                5.2               2.0\n",
       "148                6.2               3.4                5.4               2.3\n",
       "149                5.9               3.0                5.1               1.8\n",
       "\n",
       "[150 rows x 4 columns]"
      ]
     },
     "execution_count": 6,
     "metadata": {},
     "output_type": "execute_result"
    }
   ],
   "source": [
    "X"
   ]
  },
  {
   "cell_type": "code",
   "execution_count": 7,
   "id": "861f410d",
   "metadata": {
    "scrolled": false
   },
   "outputs": [
    {
     "data": {
      "text/html": [
       "<div>\n",
       "<style scoped>\n",
       "    .dataframe tbody tr th:only-of-type {\n",
       "        vertical-align: middle;\n",
       "    }\n",
       "\n",
       "    .dataframe tbody tr th {\n",
       "        vertical-align: top;\n",
       "    }\n",
       "\n",
       "    .dataframe thead th {\n",
       "        text-align: right;\n",
       "    }\n",
       "</style>\n",
       "<table border=\"1\" class=\"dataframe\">\n",
       "  <thead>\n",
       "    <tr style=\"text-align: right;\">\n",
       "      <th></th>\n",
       "      <th>target</th>\n",
       "    </tr>\n",
       "  </thead>\n",
       "  <tbody>\n",
       "    <tr>\n",
       "      <th>0</th>\n",
       "      <td>0</td>\n",
       "    </tr>\n",
       "    <tr>\n",
       "      <th>1</th>\n",
       "      <td>0</td>\n",
       "    </tr>\n",
       "    <tr>\n",
       "      <th>2</th>\n",
       "      <td>0</td>\n",
       "    </tr>\n",
       "    <tr>\n",
       "      <th>3</th>\n",
       "      <td>0</td>\n",
       "    </tr>\n",
       "    <tr>\n",
       "      <th>4</th>\n",
       "      <td>0</td>\n",
       "    </tr>\n",
       "    <tr>\n",
       "      <th>...</th>\n",
       "      <td>...</td>\n",
       "    </tr>\n",
       "    <tr>\n",
       "      <th>145</th>\n",
       "      <td>2</td>\n",
       "    </tr>\n",
       "    <tr>\n",
       "      <th>146</th>\n",
       "      <td>2</td>\n",
       "    </tr>\n",
       "    <tr>\n",
       "      <th>147</th>\n",
       "      <td>2</td>\n",
       "    </tr>\n",
       "    <tr>\n",
       "      <th>148</th>\n",
       "      <td>2</td>\n",
       "    </tr>\n",
       "    <tr>\n",
       "      <th>149</th>\n",
       "      <td>2</td>\n",
       "    </tr>\n",
       "  </tbody>\n",
       "</table>\n",
       "<p>150 rows × 1 columns</p>\n",
       "</div>"
      ],
      "text/plain": [
       "     target\n",
       "0         0\n",
       "1         0\n",
       "2         0\n",
       "3         0\n",
       "4         0\n",
       "..      ...\n",
       "145       2\n",
       "146       2\n",
       "147       2\n",
       "148       2\n",
       "149       2\n",
       "\n",
       "[150 rows x 1 columns]"
      ]
     },
     "execution_count": 7,
     "metadata": {},
     "output_type": "execute_result"
    }
   ],
   "source": [
    "y"
   ]
  },
  {
   "cell_type": "code",
   "execution_count": 8,
   "id": "8329e05a",
   "metadata": {},
   "outputs": [],
   "source": [
    "from sklearn.model_selection import train_test_split"
   ]
  },
  {
   "cell_type": "code",
   "execution_count": 9,
   "id": "2bc75d59",
   "metadata": {},
   "outputs": [],
   "source": [
    "X_train,X_test,y_train,y_test = train_test_split(X,y, test_size=0.2, random_state = 4)"
   ]
  },
  {
   "cell_type": "markdown",
   "id": "c6bc3623",
   "metadata": {},
   "source": [
    "# 3. Build KNN classifier with k value as 2 for identifying the flower Species."
   ]
  },
  {
   "cell_type": "code",
   "execution_count": 10,
   "id": "463d881c",
   "metadata": {},
   "outputs": [],
   "source": [
    "from sklearn.neighbors import KNeighborsClassifier"
   ]
  },
  {
   "cell_type": "code",
   "execution_count": 11,
   "id": "1d7f2764",
   "metadata": {},
   "outputs": [],
   "source": [
    "knn2 = KNeighborsClassifier(n_neighbors = 2)"
   ]
  },
  {
   "cell_type": "code",
   "execution_count": 12,
   "id": "f4d7660b",
   "metadata": {},
   "outputs": [
    {
     "name": "stderr",
     "output_type": "stream",
     "text": [
      "C:\\ProgramData\\Anaconda3\\lib\\site-packages\\sklearn\\neighbors\\_classification.py:198: DataConversionWarning: A column-vector y was passed when a 1d array was expected. Please change the shape of y to (n_samples,), for example using ravel().\n",
      "  return self._fit(X, y)\n"
     ]
    },
    {
     "data": {
      "text/plain": [
       "KNeighborsClassifier(n_neighbors=2)"
      ]
     },
     "execution_count": 12,
     "metadata": {},
     "output_type": "execute_result"
    }
   ],
   "source": [
    "knn2.fit(X_train, y_train)"
   ]
  },
  {
   "cell_type": "markdown",
   "id": "7de7622d",
   "metadata": {},
   "source": [
    "# 4. Build KNN classifier with k value as 4 for identifying the flower Species."
   ]
  },
  {
   "cell_type": "code",
   "execution_count": 13,
   "id": "5d151ea3",
   "metadata": {},
   "outputs": [],
   "source": [
    "knn4 = KNeighborsClassifier(n_neighbors = 4)"
   ]
  },
  {
   "cell_type": "code",
   "execution_count": 14,
   "id": "5e1d7cde",
   "metadata": {
    "scrolled": false
   },
   "outputs": [
    {
     "name": "stderr",
     "output_type": "stream",
     "text": [
      "C:\\ProgramData\\Anaconda3\\lib\\site-packages\\sklearn\\neighbors\\_classification.py:198: DataConversionWarning: A column-vector y was passed when a 1d array was expected. Please change the shape of y to (n_samples,), for example using ravel().\n",
      "  return self._fit(X, y)\n"
     ]
    },
    {
     "data": {
      "text/plain": [
       "KNeighborsClassifier(n_neighbors=4)"
      ]
     },
     "execution_count": 14,
     "metadata": {},
     "output_type": "execute_result"
    }
   ],
   "source": [
    "knn4.fit(X_train, y_train)"
   ]
  },
  {
   "cell_type": "markdown",
   "id": "85da4936",
   "metadata": {},
   "source": [
    "# 5. Evaluate the step-3 and step-4."
   ]
  },
  {
   "cell_type": "code",
   "execution_count": 15,
   "id": "467523a5",
   "metadata": {
    "scrolled": true
   },
   "outputs": [
    {
     "name": "stderr",
     "output_type": "stream",
     "text": [
      "C:\\ProgramData\\Anaconda3\\lib\\site-packages\\sklearn\\neighbors\\_classification.py:228: FutureWarning: Unlike other reduction functions (e.g. `skew`, `kurtosis`), the default behavior of `mode` typically preserves the axis it acts along. In SciPy 1.11.0, this behavior will change: the default value of `keepdims` will become False, the `axis` over which the statistic is taken will be eliminated, and the value None will no longer be accepted. Set `keepdims` to True or False to avoid this warning.\n",
      "  mode, _ = stats.mode(_y[neigh_ind, k], axis=1)\n"
     ]
    },
    {
     "data": {
      "text/plain": [
       "0.9333333333333333"
      ]
     },
     "execution_count": 15,
     "metadata": {},
     "output_type": "execute_result"
    }
   ],
   "source": [
    "knn2.score(X_test,y_test)"
   ]
  },
  {
   "cell_type": "code",
   "execution_count": 16,
   "id": "78d83d1f",
   "metadata": {
    "scrolled": false
   },
   "outputs": [
    {
     "name": "stderr",
     "output_type": "stream",
     "text": [
      "C:\\ProgramData\\Anaconda3\\lib\\site-packages\\sklearn\\neighbors\\_classification.py:228: FutureWarning: Unlike other reduction functions (e.g. `skew`, `kurtosis`), the default behavior of `mode` typically preserves the axis it acts along. In SciPy 1.11.0, this behavior will change: the default value of `keepdims` will become False, the `axis` over which the statistic is taken will be eliminated, and the value None will no longer be accepted. Set `keepdims` to True or False to avoid this warning.\n",
      "  mode, _ = stats.mode(_y[neigh_ind, k], axis=1)\n"
     ]
    },
    {
     "data": {
      "text/plain": [
       "0.9666666666666667"
      ]
     },
     "execution_count": 16,
     "metadata": {},
     "output_type": "execute_result"
    }
   ],
   "source": [
    "knn4.score(X_test,y_test)"
   ]
  },
  {
   "cell_type": "markdown",
   "id": "32104bf2",
   "metadata": {},
   "source": [
    "# 6. Design a method for calculating the distance between data points for the  given dataset"
   ]
  },
  {
   "cell_type": "code",
   "execution_count": 17,
   "id": "1385e871",
   "metadata": {
    "scrolled": true
   },
   "outputs": [
    {
     "name": "stdout",
     "output_type": "stream",
     "text": [
      "[[1.61554944 4.96487663 0.55677644 ... 0.31622777 0.98488578 1.70587221]\n",
      " [3.1638584  1.2922848  4.66368953 ... 4.65832588 4.62493243 5.73498038]\n",
      " [2.6        5.74282161 0.82462113 ... 1.01488916 0.50990195 0.678233  ]\n",
      " ...\n",
      " [3.50142828 1.08627805 5.08527285 ... 5.05074252 5.07346036 6.18223261]\n",
      " [3.11287648 0.87749644 4.67653718 ... 4.70956474 4.70850295 5.82151183]\n",
      " [0.87749644 4.27434205 1.161895   ... 1.07703296 1.62172747 2.48797106]]\n"
     ]
    }
   ],
   "source": [
    "from scipy.spatial.distance import cdist\n",
    "\n",
    "# Calculate the Euclidean distance between all pairs of points in X_train and X_test\n",
    "distances = cdist(X_test, X_train, metric='euclidean')\n",
    "\n",
    "print(distances)"
   ]
  },
  {
   "cell_type": "markdown",
   "id": "7aae4344",
   "metadata": {},
   "source": [
    "# 7. Design a method for finding the nearest neighbours of a given data point  using the above method."
   ]
  },
  {
   "cell_type": "code",
   "execution_count": 18,
   "id": "5c91596a",
   "metadata": {},
   "outputs": [],
   "source": [
    "import numpy as np"
   ]
  },
  {
   "cell_type": "code",
   "execution_count": 19,
   "id": "3760e591",
   "metadata": {
    "scrolled": false
   },
   "outputs": [
    {
     "name": "stdout",
     "output_type": "stream",
     "text": [
      "The 3 nearest neighbors of the 129th data point in the test set are:      sepal length (cm)  sepal width (cm)  petal length (cm)  petal width (cm)\n",
      "132                6.4               2.8                5.6               2.2\n",
      "104                6.5               3.0                5.8               2.2\n",
      "103                6.3               2.9                5.6               1.8\n",
      "The 3 nearest neighbors of the 19th data point in the test set are:     sepal length (cm)  sepal width (cm)  petal length (cm)  petal width (cm)\n",
      "10                5.4               3.7                1.5               0.2\n",
      "48                5.3               3.7                1.5               0.2\n",
      "31                5.4               3.4                1.5               0.4\n",
      "The 3 nearest neighbors of the 131th data point in the test set are:      sepal length (cm)  sepal width (cm)  petal length (cm)  petal width (cm)\n",
      "102                7.1               3.0                5.9               2.1\n",
      "125                7.2               3.2                6.0               1.8\n",
      "129                7.2               3.0                5.8               1.6\n",
      "The 3 nearest neighbors of the 106th data point in the test set are:      sepal length (cm)  sepal width (cm)  petal length (cm)  petal width (cm)\n",
      "122                7.7               2.8                6.7               2.0\n",
      "135                7.7               3.0                6.1               2.3\n",
      "118                7.7               2.6                6.9               2.3\n",
      "The 3 nearest neighbors of the 108th data point in the test set are:      sepal length (cm)  sepal width (cm)  petal length (cm)  petal width (cm)\n",
      "125                7.2               3.2                6.0               1.8\n",
      "102                7.1               3.0                5.9               2.1\n",
      "129                7.2               3.0                5.8               1.6\n",
      "The 3 nearest neighbors of the 79th data point in the test set are:     sepal length (cm)  sepal width (cm)  petal length (cm)  petal width (cm)\n",
      "91                6.1               3.0                4.6               1.4\n",
      "61                5.9               3.0                4.2               1.5\n",
      "97                6.2               2.9                4.3               1.3\n",
      "The 3 nearest neighbors of the 84th data point in the test set are:      sepal length (cm)  sepal width (cm)  petal length (cm)  petal width (cm)\n",
      "142                5.8               2.7                5.1               1.9\n",
      "149                5.9               3.0                5.1               1.8\n",
      "127                6.1               3.0                4.9               1.8\n",
      "The 3 nearest neighbors of the 15th data point in the test set are:     sepal length (cm)  sepal width (cm)  petal length (cm)  petal width (cm)\n",
      "33                5.5               4.2                1.4               0.2\n",
      "15                5.7               4.4                1.5               0.4\n",
      "10                5.4               3.7                1.5               0.2\n",
      "The 3 nearest neighbors of the 6th data point in the test set are:     sepal length (cm)  sepal width (cm)  petal length (cm)  petal width (cm)\n",
      "10                5.4               3.7                1.5               0.2\n",
      "48                5.3               3.7                1.5               0.2\n",
      "44                5.1               3.8                1.9               0.4\n",
      "The 3 nearest neighbors of the 134th data point in the test set are:      sepal length (cm)  sepal width (cm)  petal length (cm)  petal width (cm)\n",
      "72                 6.3               2.5                4.9               1.5\n",
      "126                6.2               2.8                4.8               1.8\n",
      "127                6.1               3.0                4.9               1.8\n",
      "The 3 nearest neighbors of the 26th data point in the test set are:     sepal length (cm)  sepal width (cm)  petal length (cm)  petal width (cm)\n",
      "9                 4.9               3.1                1.5               0.1\n",
      "1                 4.9               3.0                1.4               0.2\n",
      "30                4.8               3.1                1.6               0.2\n",
      "The 3 nearest neighbors of the 12th data point in the test set are:     sepal length (cm)  sepal width (cm)  petal length (cm)  petal width (cm)\n",
      "7                 5.0               3.4                1.5               0.2\n",
      "30                4.8               3.1                1.6               0.2\n",
      "6                 4.6               3.4                1.4               0.3\n",
      "The 3 nearest neighbors of the 13th data point in the test set are:     sepal length (cm)  sepal width (cm)  petal length (cm)  petal width (cm)\n",
      "1                 4.9               3.0                1.4               0.2\n",
      "9                 4.9               3.1                1.5               0.1\n",
      "45                4.8               3.0                1.4               0.3\n",
      "The 3 nearest neighbors of the 64th data point in the test set are:     sepal length (cm)  sepal width (cm)  petal length (cm)  petal width (cm)\n",
      "91                6.1               3.0                4.6               1.4\n",
      "73                6.1               2.8                4.7               1.2\n",
      "97                6.2               2.9                4.3               1.3\n",
      "The 3 nearest neighbors of the 114th data point in the test set are:      sepal length (cm)  sepal width (cm)  petal length (cm)  petal width (cm)\n",
      "142                5.8               2.7                5.1               1.9\n",
      "121                5.6               2.8                4.9               2.0\n",
      "114                5.8               2.8                5.1               2.4\n",
      "The 3 nearest neighbors of the 35th data point in the test set are:     sepal length (cm)  sepal width (cm)  petal length (cm)  petal width (cm)\n",
      "9                 4.9               3.1                1.5               0.1\n",
      "1                 4.9               3.0                1.4               0.2\n",
      "30                4.8               3.1                1.6               0.2\n",
      "The 3 nearest neighbors of the 61th data point in the test set are:     sepal length (cm)  sepal width (cm)  petal length (cm)  petal width (cm)\n",
      "93                5.0               2.3                3.3               1.0\n",
      "57                4.9               2.4                3.3               1.0\n",
      "81                5.5               2.4                3.7               1.0\n",
      "The 3 nearest neighbors of the 3th data point in the test set are:     sepal length (cm)  sepal width (cm)  petal length (cm)  petal width (cm)\n",
      "47                4.6               3.2                1.4               0.2\n",
      "3                 4.6               3.1                1.5               0.2\n",
      "45                4.8               3.0                1.4               0.3\n",
      "The 3 nearest neighbors of the 25th data point in the test set are:     sepal length (cm)  sepal width (cm)  petal length (cm)  petal width (cm)\n",
      "30                4.8               3.1                1.6               0.2\n",
      "7                 5.0               3.4                1.5               0.2\n",
      "23                5.1               3.3                1.7               0.5\n",
      "The 3 nearest neighbors of the 124th data point in the test set are:      sepal length (cm)  sepal width (cm)  petal length (cm)  petal width (cm)\n",
      "126                6.2               2.8                4.8               1.8\n",
      "146                6.3               2.5                5.0               1.9\n",
      "127                6.1               3.0                4.9               1.8\n",
      "The 3 nearest neighbors of the 36th data point in the test set are:     sepal length (cm)  sepal width (cm)  petal length (cm)  petal width (cm)\n",
      "49                5.0               3.3                1.4               0.2\n",
      "1                 4.9               3.0                1.4               0.2\n",
      "40                5.0               3.5                1.3               0.3\n",
      "The 3 nearest neighbors of the 125th data point in the test set are:      sepal length (cm)  sepal width (cm)  petal length (cm)  petal width (cm)\n",
      "120                6.9               3.2                5.7               2.3\n",
      "143                6.8               3.2                5.9               2.3\n",
      "140                6.7               3.1                5.6               2.4\n",
      "The 3 nearest neighbors of the 69th data point in the test set are:      sepal length (cm)  sepal width (cm)  petal length (cm)  petal width (cm)\n",
      "87                 6.3               2.3                4.4               1.3\n",
      "72                 6.3               2.5                4.9               1.5\n",
      "119                6.0               2.2                5.0               1.5\n",
      "The 3 nearest neighbors of the 27th data point in the test set are:     sepal length (cm)  sepal width (cm)  petal length (cm)  petal width (cm)\n",
      "23                5.1               3.3                1.7               0.5\n",
      "43                5.0               3.5                1.6               0.6\n",
      "7                 5.0               3.4                1.5               0.2\n",
      "The 3 nearest neighbors of the 30th data point in the test set are:     sepal length (cm)  sepal width (cm)  petal length (cm)  petal width (cm)\n",
      "30                4.8               3.1                1.6               0.2\n",
      "3                 4.6               3.1                1.5               0.2\n",
      "47                4.6               3.2                1.4               0.2\n",
      "The 3 nearest neighbors of the 20th data point in the test set are:     sepal length (cm)  sepal width (cm)  petal length (cm)  petal width (cm)\n",
      "21                5.1               3.7                1.5               0.4\n",
      "46                5.1               3.8                1.6               0.2\n",
      "48                5.3               3.7                1.5               0.2\n"
     ]
    },
    {
     "name": "stdout",
     "output_type": "stream",
     "text": [
      "The 3 nearest neighbors of the 42th data point in the test set are:     sepal length (cm)  sepal width (cm)  petal length (cm)  petal width (cm)\n",
      "8                 4.4               2.9                1.4               0.2\n",
      "38                4.4               3.0                1.3               0.2\n",
      "45                4.8               3.0                1.4               0.3\n",
      "The 3 nearest neighbors of the 17th data point in the test set are:     sepal length (cm)  sepal width (cm)  petal length (cm)  petal width (cm)\n",
      "10                5.4               3.7                1.5               0.2\n",
      "48                5.3               3.7                1.5               0.2\n",
      "33                5.5               4.2                1.4               0.2\n",
      "The 3 nearest neighbors of the 21th data point in the test set are:     sepal length (cm)  sepal width (cm)  petal length (cm)  petal width (cm)\n",
      "31                5.4               3.4                1.5               0.4\n",
      "27                5.2               3.5                1.5               0.2\n",
      "28                5.2               3.4                1.4               0.2\n",
      "The 3 nearest neighbors of the 102th data point in the test set are:      sepal length (cm)  sepal width (cm)  petal length (cm)  petal width (cm)\n",
      "142                5.8               2.7                5.1               1.9\n",
      "121                5.6               2.8                4.9               2.0\n",
      "149                5.9               3.0                5.1               1.8\n"
     ]
    }
   ],
   "source": [
    "# Define a function to find the k nearest neighbors of a given point\n",
    "def find_nearest_neighbors(X_train, x, k):\n",
    "    distances = cdist(X_train, [x], metric='euclidean')\n",
    "    indices = np.argsort(distances.ravel())[:k]\n",
    "    return indices\n",
    "\n",
    "# Find the k nearest neighbors of each point in the test set\n",
    "k = 3\n",
    "for i, x in X_test.iterrows():\n",
    "    indices = find_nearest_neighbors(X_train.values, x.values, k)\n",
    "    print(f\"The {k} nearest neighbors of the {i+1}th data point in the test set are: {X_train.iloc[indices]}\")"
   ]
  },
  {
   "cell_type": "code",
   "execution_count": 23,
   "id": "d5c6e842",
   "metadata": {},
   "outputs": [
    {
     "ename": "KeyError",
     "evalue": "\"None of [Int64Index([101, 76, 44], dtype='int64')] are in the [columns]\"",
     "output_type": "error",
     "traceback": [
      "\u001b[1;31m---------------------------------------------------------------------------\u001b[0m",
      "\u001b[1;31mKeyError\u001b[0m                                  Traceback (most recent call last)",
      "\u001b[1;32m~\\AppData\\Local\\Temp\\ipykernel_15652\\1810685796.py\u001b[0m in \u001b[0;36m<module>\u001b[1;34m\u001b[0m\n\u001b[0;32m     10\u001b[0m \u001b[1;32mif\u001b[0m \u001b[0mlen\u001b[0m\u001b[1;33m(\u001b[0m\u001b[0mdistances\u001b[0m\u001b[1;33m[\u001b[0m\u001b[1;36m0\u001b[0m\u001b[1;33m]\u001b[0m\u001b[1;33m)\u001b[0m \u001b[1;33m>=\u001b[0m \u001b[0mk\u001b[0m\u001b[1;33m:\u001b[0m\u001b[1;33m\u001b[0m\u001b[1;33m\u001b[0m\u001b[0m\n\u001b[0;32m     11\u001b[0m     \u001b[0mindices\u001b[0m \u001b[1;33m=\u001b[0m \u001b[0mnp\u001b[0m\u001b[1;33m.\u001b[0m\u001b[0margsort\u001b[0m\u001b[1;33m(\u001b[0m\u001b[0mdistances\u001b[0m\u001b[1;33m.\u001b[0m\u001b[0mravel\u001b[0m\u001b[1;33m(\u001b[0m\u001b[1;33m)\u001b[0m\u001b[1;33m)\u001b[0m\u001b[1;33m[\u001b[0m\u001b[1;33m:\u001b[0m\u001b[0mk\u001b[0m\u001b[1;33m]\u001b[0m\u001b[1;33m\u001b[0m\u001b[1;33m\u001b[0m\u001b[0m\n\u001b[1;32m---> 12\u001b[1;33m     \u001b[0mnearest_neighbors\u001b[0m \u001b[1;33m=\u001b[0m \u001b[0my_train\u001b[0m\u001b[1;33m.\u001b[0m\u001b[0mreset_index\u001b[0m\u001b[1;33m(\u001b[0m\u001b[0mdrop\u001b[0m\u001b[1;33m=\u001b[0m\u001b[1;32mTrue\u001b[0m\u001b[1;33m)\u001b[0m\u001b[1;33m[\u001b[0m\u001b[0mindices\u001b[0m\u001b[1;33m]\u001b[0m\u001b[1;33m\u001b[0m\u001b[1;33m\u001b[0m\u001b[0m\n\u001b[0m\u001b[0;32m     13\u001b[0m     \u001b[1;31m# Take a majority vote among the k nearest neighbors and assign the class label that occurs most frequently as the predicted class label for x_new\u001b[0m\u001b[1;33m\u001b[0m\u001b[1;33m\u001b[0m\u001b[0m\n\u001b[0;32m     14\u001b[0m     \u001b[0mpredicted_class\u001b[0m \u001b[1;33m=\u001b[0m \u001b[0mnearest_neighbors\u001b[0m\u001b[1;33m.\u001b[0m\u001b[0mmode\u001b[0m\u001b[1;33m(\u001b[0m\u001b[1;33m)\u001b[0m\u001b[1;33m[\u001b[0m\u001b[1;36m0\u001b[0m\u001b[1;33m]\u001b[0m\u001b[1;33m\u001b[0m\u001b[1;33m\u001b[0m\u001b[0m\n",
      "\u001b[1;32mC:\\ProgramData\\Anaconda3\\lib\\site-packages\\pandas\\core\\frame.py\u001b[0m in \u001b[0;36m__getitem__\u001b[1;34m(self, key)\u001b[0m\n\u001b[0;32m   3509\u001b[0m             \u001b[1;32mif\u001b[0m \u001b[0mis_iterator\u001b[0m\u001b[1;33m(\u001b[0m\u001b[0mkey\u001b[0m\u001b[1;33m)\u001b[0m\u001b[1;33m:\u001b[0m\u001b[1;33m\u001b[0m\u001b[1;33m\u001b[0m\u001b[0m\n\u001b[0;32m   3510\u001b[0m                 \u001b[0mkey\u001b[0m \u001b[1;33m=\u001b[0m \u001b[0mlist\u001b[0m\u001b[1;33m(\u001b[0m\u001b[0mkey\u001b[0m\u001b[1;33m)\u001b[0m\u001b[1;33m\u001b[0m\u001b[1;33m\u001b[0m\u001b[0m\n\u001b[1;32m-> 3511\u001b[1;33m             \u001b[0mindexer\u001b[0m \u001b[1;33m=\u001b[0m \u001b[0mself\u001b[0m\u001b[1;33m.\u001b[0m\u001b[0mcolumns\u001b[0m\u001b[1;33m.\u001b[0m\u001b[0m_get_indexer_strict\u001b[0m\u001b[1;33m(\u001b[0m\u001b[0mkey\u001b[0m\u001b[1;33m,\u001b[0m \u001b[1;34m\"columns\"\u001b[0m\u001b[1;33m)\u001b[0m\u001b[1;33m[\u001b[0m\u001b[1;36m1\u001b[0m\u001b[1;33m]\u001b[0m\u001b[1;33m\u001b[0m\u001b[1;33m\u001b[0m\u001b[0m\n\u001b[0m\u001b[0;32m   3512\u001b[0m \u001b[1;33m\u001b[0m\u001b[0m\n\u001b[0;32m   3513\u001b[0m         \u001b[1;31m# take() does not accept boolean indexers\u001b[0m\u001b[1;33m\u001b[0m\u001b[1;33m\u001b[0m\u001b[0m\n",
      "\u001b[1;32mC:\\ProgramData\\Anaconda3\\lib\\site-packages\\pandas\\core\\indexes\\base.py\u001b[0m in \u001b[0;36m_get_indexer_strict\u001b[1;34m(self, key, axis_name)\u001b[0m\n\u001b[0;32m   5794\u001b[0m             \u001b[0mkeyarr\u001b[0m\u001b[1;33m,\u001b[0m \u001b[0mindexer\u001b[0m\u001b[1;33m,\u001b[0m \u001b[0mnew_indexer\u001b[0m \u001b[1;33m=\u001b[0m \u001b[0mself\u001b[0m\u001b[1;33m.\u001b[0m\u001b[0m_reindex_non_unique\u001b[0m\u001b[1;33m(\u001b[0m\u001b[0mkeyarr\u001b[0m\u001b[1;33m)\u001b[0m\u001b[1;33m\u001b[0m\u001b[1;33m\u001b[0m\u001b[0m\n\u001b[0;32m   5795\u001b[0m \u001b[1;33m\u001b[0m\u001b[0m\n\u001b[1;32m-> 5796\u001b[1;33m         \u001b[0mself\u001b[0m\u001b[1;33m.\u001b[0m\u001b[0m_raise_if_missing\u001b[0m\u001b[1;33m(\u001b[0m\u001b[0mkeyarr\u001b[0m\u001b[1;33m,\u001b[0m \u001b[0mindexer\u001b[0m\u001b[1;33m,\u001b[0m \u001b[0maxis_name\u001b[0m\u001b[1;33m)\u001b[0m\u001b[1;33m\u001b[0m\u001b[1;33m\u001b[0m\u001b[0m\n\u001b[0m\u001b[0;32m   5797\u001b[0m \u001b[1;33m\u001b[0m\u001b[0m\n\u001b[0;32m   5798\u001b[0m         \u001b[0mkeyarr\u001b[0m \u001b[1;33m=\u001b[0m \u001b[0mself\u001b[0m\u001b[1;33m.\u001b[0m\u001b[0mtake\u001b[0m\u001b[1;33m(\u001b[0m\u001b[0mindexer\u001b[0m\u001b[1;33m)\u001b[0m\u001b[1;33m\u001b[0m\u001b[1;33m\u001b[0m\u001b[0m\n",
      "\u001b[1;32mC:\\ProgramData\\Anaconda3\\lib\\site-packages\\pandas\\core\\indexes\\base.py\u001b[0m in \u001b[0;36m_raise_if_missing\u001b[1;34m(self, key, indexer, axis_name)\u001b[0m\n\u001b[0;32m   5854\u001b[0m                 \u001b[1;32mif\u001b[0m \u001b[0muse_interval_msg\u001b[0m\u001b[1;33m:\u001b[0m\u001b[1;33m\u001b[0m\u001b[1;33m\u001b[0m\u001b[0m\n\u001b[0;32m   5855\u001b[0m                     \u001b[0mkey\u001b[0m \u001b[1;33m=\u001b[0m \u001b[0mlist\u001b[0m\u001b[1;33m(\u001b[0m\u001b[0mkey\u001b[0m\u001b[1;33m)\u001b[0m\u001b[1;33m\u001b[0m\u001b[1;33m\u001b[0m\u001b[0m\n\u001b[1;32m-> 5856\u001b[1;33m                 \u001b[1;32mraise\u001b[0m \u001b[0mKeyError\u001b[0m\u001b[1;33m(\u001b[0m\u001b[1;34mf\"None of [{key}] are in the [{axis_name}]\"\u001b[0m\u001b[1;33m)\u001b[0m\u001b[1;33m\u001b[0m\u001b[1;33m\u001b[0m\u001b[0m\n\u001b[0m\u001b[0;32m   5857\u001b[0m \u001b[1;33m\u001b[0m\u001b[0m\n\u001b[0;32m   5858\u001b[0m             \u001b[0mnot_found\u001b[0m \u001b[1;33m=\u001b[0m \u001b[0mlist\u001b[0m\u001b[1;33m(\u001b[0m\u001b[0mensure_index\u001b[0m\u001b[1;33m(\u001b[0m\u001b[0mkey\u001b[0m\u001b[1;33m)\u001b[0m\u001b[1;33m[\u001b[0m\u001b[0mmissing_mask\u001b[0m\u001b[1;33m.\u001b[0m\u001b[0mnonzero\u001b[0m\u001b[1;33m(\u001b[0m\u001b[1;33m)\u001b[0m\u001b[1;33m[\u001b[0m\u001b[1;36m0\u001b[0m\u001b[1;33m]\u001b[0m\u001b[1;33m]\u001b[0m\u001b[1;33m.\u001b[0m\u001b[0munique\u001b[0m\u001b[1;33m(\u001b[0m\u001b[1;33m)\u001b[0m\u001b[1;33m)\u001b[0m\u001b[1;33m\u001b[0m\u001b[1;33m\u001b[0m\u001b[0m\n",
      "\u001b[1;31mKeyError\u001b[0m: \"None of [Int64Index([101, 76, 44], dtype='int64')] are in the [columns]\""
     ]
    }
   ],
   "source": [
    "# Assume that X_train and y_train are already defined\n",
    "\n",
    "x_new = [[5.1, 3.5, 1.4, 0.2]]\n",
    "\n",
    "# Calculate the distances between x_new and all the training data points\n",
    "distances = cdist(x_new, X_train, metric='euclidean')\n",
    "\n",
    "# Find the k nearest neighbors of x_new\n",
    "k = 3\n",
    "if len(distances[0]) >= k:\n",
    "    indices = np.argsort(distances.ravel())[:k]\n",
    "    nearest_neighbors = y_train.reset_index(drop=True)[indices]\n",
    "    # Take a majority vote among the k nearest neighbors and assign the class label that occurs most frequently as the predicted class label for x_new\n",
    "    predicted_class = nearest_neighbors.mode()[0]\n",
    "else:\n",
    "    print(\"Error: Not enough data points to find k nearest neighbors\")\n",
    "\n",
    "print(f\"The predicted class label for the new data point is: {predicted_class}\")"
   ]
  }
 ],
 "metadata": {
  "kernelspec": {
   "display_name": "Python 3 (ipykernel)",
   "language": "python",
   "name": "python3"
  },
  "language_info": {
   "codemirror_mode": {
    "name": "ipython",
    "version": 3
   },
   "file_extension": ".py",
   "mimetype": "text/x-python",
   "name": "python",
   "nbconvert_exporter": "python",
   "pygments_lexer": "ipython3",
   "version": "3.9.13"
  }
 },
 "nbformat": 4,
 "nbformat_minor": 5
}
