{
 "cells": [
  {
   "cell_type": "markdown",
   "id": "a4e6815a",
   "metadata": {},
   "source": [
    "# LINEAR REGRESSION POLYNOMIAL REGRESSION"
   ]
  },
  {
   "cell_type": "markdown",
   "id": "8f40f9e9",
   "metadata": {},
   "source": [
    "# 1. Load the salary dataset to working environment.\n"
   ]
  },
  {
   "cell_type": "code",
   "execution_count": null,
   "id": "0ee718d8",
   "metadata": {},
   "outputs": [],
   "source": [
    "import pandas as pd"
   ]
  },
  {
   "cell_type": "code",
   "execution_count": null,
   "id": "f2c1853c",
   "metadata": {},
   "outputs": [],
   "source": [
    "df=pd.read_csv(\"position_salaries.csv\")\n",
    "df"
   ]
  },
  {
   "cell_type": "markdown",
   "id": "7ed2f250",
   "metadata": {},
   "source": [
    "# 2. Perform  exploratory  analysis  on  the  loaded  dataset  and  draw  your inferences."
   ]
  },
  {
   "cell_type": "code",
   "execution_count": null,
   "id": "533c12fe",
   "metadata": {},
   "outputs": [],
   "source": [
    "X = df.iloc[:,1:2].values\n",
    "y = df.iloc[:,2].values"
   ]
  },
  {
   "cell_type": "code",
   "execution_count": null,
   "id": "14eddb69",
   "metadata": {
    "scrolled": true
   },
   "outputs": [],
   "source": [
    "print(X)"
   ]
  },
  {
   "cell_type": "code",
   "execution_count": null,
   "id": "66b755d1",
   "metadata": {
    "scrolled": true
   },
   "outputs": [],
   "source": [
    "print(y)"
   ]
  },
  {
   "cell_type": "code",
   "execution_count": null,
   "id": "a6b00c55",
   "metadata": {
    "scrolled": true
   },
   "outputs": [],
   "source": [
    "print(df.head())"
   ]
  },
  {
   "cell_type": "code",
   "execution_count": null,
   "id": "9e09c6b5",
   "metadata": {},
   "outputs": [],
   "source": [
    "print(df.describe())"
   ]
  },
  {
   "cell_type": "code",
   "execution_count": null,
   "id": "46f0e1a4",
   "metadata": {},
   "outputs": [],
   "source": [
    "print(df.isnull().sum())\n",
    "df = df.dropna()"
   ]
  },
  {
   "cell_type": "code",
   "execution_count": null,
   "id": "9028dcd7",
   "metadata": {
    "scrolled": true
   },
   "outputs": [],
   "source": [
    "print(df.dtypes)"
   ]
  },
  {
   "cell_type": "code",
   "execution_count": null,
   "id": "bbd71db4",
   "metadata": {},
   "outputs": [],
   "source": [
    "import matplotlib.pyplot as plt\n",
    "import seaborn as sns\n",
    "\n",
    "plt.figure(figsize=(6, 6))\n",
    "sns.barplot(x='Years of Experience', y='Salary', data=df)\n",
    "plt.title('Salary by experience')\n",
    "plt.xlabel('Experience(in years)')\n",
    "plt.ylabel('Salary')\n",
    "plt.show()"
   ]
  },
  {
   "cell_type": "markdown",
   "id": "98be72d1",
   "metadata": {},
   "source": [
    "relationship between salary and year of experience is non-linear"
   ]
  },
  {
   "cell_type": "markdown",
   "id": "7af2eb60",
   "metadata": {},
   "source": [
    "# 3. Apply LinearRegression and design a model on the training data."
   ]
  },
  {
   "cell_type": "code",
   "execution_count": null,
   "id": "ba879cf9",
   "metadata": {},
   "outputs": [],
   "source": [
    "# fitting the linear regression model\n",
    "from sklearn.linear_model import LinearRegression\n",
    "lin_model = LinearRegression()\n",
    "lin_model.fit(X,y)\n",
    "\n",
    "# visualising the linear regression model\n",
    "plt.scatter(X,y, color='red')\n",
    "plt.plot(X, lin_model.predict(X),color='blue')\n",
    "plt.title(\"Truth or Bluff(Linear)\")\n",
    "plt.xlabel('position & level Experience')\n",
    "plt.ylabel('Salary')\n",
    "plt.show()"
   ]
  },
  {
   "cell_type": "code",
   "execution_count": null,
   "id": "2014a36f",
   "metadata": {},
   "outputs": [],
   "source": [
    "#predicting the values of salary of level 5.5 for linear model\n",
    "lin_model.predict([[5.5]])"
   ]
  },
  {
   "cell_type": "markdown",
   "id": "5c230f35",
   "metadata": {},
   "source": [
    "# 4. Apply PolynomialRegression by manual method and design a model on the training data."
   ]
  },
  {
   "cell_type": "code",
   "execution_count": null,
   "id": "322d6e28",
   "metadata": {},
   "outputs": [],
   "source": [
    "import math"
   ]
  },
  {
   "cell_type": "code",
   "execution_count": null,
   "id": "a1f034f4",
   "metadata": {},
   "outputs": [],
   "source": [
    "class PolynomailRegression() :\n",
    "     \n",
    "    def __init__( self, degree, learning_rate, iterations ) : # constructor\n",
    "         \n",
    "        self.degree = degree\n",
    "         \n",
    "        self.learning_rate = learning_rate\n",
    "         \n",
    "        self.iterations = iterations\n",
    "         \n",
    "    # function to transform X\n",
    "     \n",
    "    def transform( self, X ) :\n",
    "         \n",
    "        # initialize X_transform\n",
    "         \n",
    "        X_transform = np.ones( ( self.m, 1 ) )\n",
    "         \n",
    "        j = 0\n",
    "     \n",
    "        for j in range( self.degree + 1 ) :\n",
    "             \n",
    "            if j != 0 :\n",
    "                 \n",
    "                x_pow = np.power( X, j )\n",
    "                 \n",
    "                # append x_pow to X_transform\n",
    "                 \n",
    "                X_transform = np.append( X_transform, x_pow.reshape( -1, 1 ), axis = 1 )\n",
    " \n",
    "        return X_transform  \n",
    "     \n",
    "    # function to normalize X_transform\n",
    "     \n",
    "    def normalize( self, X ) :\n",
    "         \n",
    "        X[:, 1:] = ( X[:, 1:] - np.mean( X[:, 1:], axis = 0 ) ) / np.std( X[:, 1:], axis = 0 )\n",
    "        return X\n",
    "         \n",
    "    # model training\n",
    "     \n",
    "    def fit( self, X, Y ) :\n",
    "         \n",
    "        self.X = X\n",
    "     \n",
    "        self.Y = Y\n",
    "     \n",
    "        self.m, self.n = self.X.shape\n",
    "     \n",
    "        # weight initialization\n",
    "     \n",
    "        self.W = np.zeros( self.degree + 1 )\n",
    "         \n",
    "        # transform X for polynomial  h( x ) = w0 * x^0 + w1 * x^1 + w2 * x^2 + ........+ wn * x^n\n",
    "         \n",
    "        X_transform = self.transform( self.X )\n",
    "         \n",
    "        # normalize X_transform\n",
    "         \n",
    "        X_normalize = self.normalize( X_transform )\n",
    "                 \n",
    "        # gradient descent learning\n",
    "     \n",
    "        for i in range( self.iterations ) :\n",
    "             \n",
    "            h = self.predict( self.X )\n",
    "         \n",
    "            error = h - self.Y\n",
    "             \n",
    "            # update weights\n",
    "         \n",
    "            self.W = self.W - self.learning_rate * ( 1 / self.m ) * np.dot( X_normalize.T, error )\n",
    "         \n",
    "        return self\n",
    "     \n",
    "    # predict\n",
    "     \n",
    "    def predict( self, X ) :\n",
    "        X_transform = self.transform( X )\n",
    "         \n",
    "        X_normalize = self.normalize( X_transform )\n",
    "         \n",
    "        return np.dot( X_transform, self.W )"
   ]
  },
  {
   "cell_type": "code",
   "execution_count": null,
   "id": "9e9b98f0",
   "metadata": {},
   "outputs": [],
   "source": [
    "X = df.iloc[:, 1:2].values\n",
    "y = df['Salary']"
   ]
  },
  {
   "cell_type": "code",
   "execution_count": null,
   "id": "8e0bbb72",
   "metadata": {},
   "outputs": [],
   "source": [
    "#Taking N/degree= 3 for quadratic polynomial\n",
    "model = PolynomailRegression(degree=3, \n",
    "                          learning_rate=0.01,\n",
    "                          iterations=500)"
   ]
  },
  {
   "cell_type": "code",
   "execution_count": null,
   "id": "53a03d7c",
   "metadata": {},
   "outputs": [],
   "source": [
    "import numpy as np\n",
    "model.fit(X, y)"
   ]
  },
  {
   "cell_type": "markdown",
   "id": "bda1a474",
   "metadata": {},
   "source": [
    "# 5. Fit the created model on the test databy manual method."
   ]
  },
  {
   "cell_type": "code",
   "execution_count": null,
   "id": "dd58619b",
   "metadata": {},
   "outputs": [],
   "source": [
    "y_pred = model.predict(X)"
   ]
  },
  {
   "cell_type": "code",
   "execution_count": null,
   "id": "efa68dc4",
   "metadata": {},
   "outputs": [],
   "source": [
    "plt.plot(X, y_pred, c = 'blue')\n",
    "plt.scatter(X, y)"
   ]
  },
  {
   "cell_type": "markdown",
   "id": "fd13503c",
   "metadata": {},
   "source": [
    "# 6. Apply PolynomialRegression using the python  library and  design  a model on the training data. "
   ]
  },
  {
   "cell_type": "code",
   "execution_count": null,
   "id": "d714b44c",
   "metadata": {},
   "outputs": [],
   "source": [
    "import numpy as np\n",
    "import pandas\n",
    "import matplotlib.pyplot as plt \n",
    "from sklearn.model_selection import train_test_split\n",
    "from sklearn.linear_model import LinearRegression\n",
    "from sklearn.preprocessing import PolynomialFeatures"
   ]
  },
  {
   "cell_type": "code",
   "execution_count": null,
   "id": "6425871f",
   "metadata": {
    "scrolled": true
   },
   "outputs": [],
   "source": [
    "# polynomial regression model Taking N/degree= 3 for quadratic polynomial\n",
    "from sklearn.preprocessing import PolynomialFeatures\n",
    "poly_reg = PolynomialFeatures(degree=3)\n",
    "X_poly = poly_reg.fit_transform(X)\n",
    "\n",
    "lin_reg_pratik = LinearRegression()\n",
    "lin_reg_pratik.fit(X_poly,y)"
   ]
  },
  {
   "cell_type": "code",
   "execution_count": null,
   "id": "51288daa",
   "metadata": {},
   "outputs": [],
   "source": [
    "from sklearn.metrics import mean_absolute_error\n",
    "mean_absolute_error(y, y_pred)"
   ]
  },
  {
   "cell_type": "markdown",
   "id": "f0b852f6",
   "metadata": {},
   "source": [
    "# 7. Fit the created model on the test data using the python library"
   ]
  },
  {
   "cell_type": "code",
   "execution_count": null,
   "id": "b9a22cb6",
   "metadata": {},
   "outputs": [],
   "source": [
    "X_grid = np.arange(min(X),max(X),0.1)\n",
    "X_grid = X_grid.reshape(len(X_grid),1) \n",
    "plt.scatter(X,y, color='red') \n",
    "plt.plot(X_grid, lin_reg_pratik.predict(poly_reg.fit_transform(X_grid)),color='blue') "
   ]
  }
 ],
 "metadata": {
  "kernelspec": {
   "display_name": "Python 3 (ipykernel)",
   "language": "python",
   "name": "python3"
  },
  "language_info": {
   "codemirror_mode": {
    "name": "ipython",
    "version": 3
   },
   "file_extension": ".py",
   "mimetype": "text/x-python",
   "name": "python",
   "nbconvert_exporter": "python",
   "pygments_lexer": "ipython3",
   "version": "3.9.13"
  }
 },
 "nbformat": 4,
 "nbformat_minor": 5
}
